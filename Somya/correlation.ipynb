{
 "cells": [
  {
   "cell_type": "code",
   "execution_count": 1,
   "id": "comic-prize",
   "metadata": {},
   "outputs": [
    {
     "name": "stderr",
     "output_type": "stream",
     "text": [
      "\n",
      "Bad key \"text.kerning_factor\" on line 4 in\n",
      "/Users/soma/opt/anaconda3/envs/pyvizenv/lib/python3.7/site-packages/matplotlib/mpl-data/stylelib/_classic_test_patch.mplstyle.\n",
      "You probably need to get an updated matplotlibrc file from\n",
      "http://github.com/matplotlib/matplotlib/blob/master/matplotlibrc.template\n",
      "or from the matplotlib source distribution\n"
     ]
    }
   ],
   "source": [
    "# Initial imports\n",
    "import pandas as pd\n",
    "import os\n",
    "import numpy as np\n",
    "import datetime as dt\n",
    "from pathlib import Path\n",
    "import seaborn as sns\n",
    "from dotenv import load_dotenv\n",
    "%matplotlib inline"
   ]
  },
  {
   "cell_type": "code",
   "execution_count": 2,
   "id": "serial-medication",
   "metadata": {},
   "outputs": [
    {
     "data": {
      "text/html": [
       "<div>\n",
       "<style scoped>\n",
       "    .dataframe tbody tr th:only-of-type {\n",
       "        vertical-align: middle;\n",
       "    }\n",
       "\n",
       "    .dataframe tbody tr th {\n",
       "        vertical-align: top;\n",
       "    }\n",
       "\n",
       "    .dataframe thead th {\n",
       "        text-align: right;\n",
       "    }\n",
       "</style>\n",
       "<table border=\"1\" class=\"dataframe\">\n",
       "  <thead>\n",
       "    <tr style=\"text-align: right;\">\n",
       "      <th></th>\n",
       "      <th>Region</th>\n",
       "      <th>Median Sale Price</th>\n",
       "      <th>Homes Sold</th>\n",
       "      <th>New Listings</th>\n",
       "      <th>Inventory</th>\n",
       "      <th>Days on Market</th>\n",
       "      <th>Days on Market MoM</th>\n",
       "      <th>Days on Market YoY</th>\n",
       "    </tr>\n",
       "    <tr>\n",
       "      <th>Date</th>\n",
       "      <th></th>\n",
       "      <th></th>\n",
       "      <th></th>\n",
       "      <th></th>\n",
       "      <th></th>\n",
       "      <th></th>\n",
       "      <th></th>\n",
       "      <th></th>\n",
       "    </tr>\n",
       "  </thead>\n",
       "  <tbody>\n",
       "    <tr>\n",
       "      <th>2012-01-31</th>\n",
       "      <td>Auburn, WA</td>\n",
       "      <td>188</td>\n",
       "      <td>81</td>\n",
       "      <td>118</td>\n",
       "      <td>447</td>\n",
       "      <td>107</td>\n",
       "      <td>38</td>\n",
       "      <td>10</td>\n",
       "    </tr>\n",
       "    <tr>\n",
       "      <th>2012-01-31</th>\n",
       "      <td>Marysville, WA</td>\n",
       "      <td>180</td>\n",
       "      <td>78</td>\n",
       "      <td>93</td>\n",
       "      <td>285</td>\n",
       "      <td>65</td>\n",
       "      <td>12</td>\n",
       "      <td>-7</td>\n",
       "    </tr>\n",
       "    <tr>\n",
       "      <th>2012-01-31</th>\n",
       "      <td>Brier, WA</td>\n",
       "      <td>540</td>\n",
       "      <td>7</td>\n",
       "      <td>5</td>\n",
       "      <td>26</td>\n",
       "      <td>147</td>\n",
       "      <td>71</td>\n",
       "      <td>38</td>\n",
       "    </tr>\n",
       "    <tr>\n",
       "      <th>2012-01-31</th>\n",
       "      <td>Renton, WA</td>\n",
       "      <td>244</td>\n",
       "      <td>116</td>\n",
       "      <td>160</td>\n",
       "      <td>485</td>\n",
       "      <td>88</td>\n",
       "      <td>27</td>\n",
       "      <td>-14</td>\n",
       "    </tr>\n",
       "    <tr>\n",
       "      <th>2012-01-31</th>\n",
       "      <td>Mercer Island, WA</td>\n",
       "      <td>863</td>\n",
       "      <td>12</td>\n",
       "      <td>40</td>\n",
       "      <td>105</td>\n",
       "      <td>88</td>\n",
       "      <td>3</td>\n",
       "      <td>-87</td>\n",
       "    </tr>\n",
       "    <tr>\n",
       "      <th>2012-01-31</th>\n",
       "      <td>Tukwila, WA</td>\n",
       "      <td>122</td>\n",
       "      <td>15</td>\n",
       "      <td>17</td>\n",
       "      <td>60</td>\n",
       "      <td>98</td>\n",
       "      <td>-2</td>\n",
       "      <td>-29</td>\n",
       "    </tr>\n",
       "    <tr>\n",
       "      <th>2012-01-31</th>\n",
       "      <td>Bothell, WA</td>\n",
       "      <td>314</td>\n",
       "      <td>117</td>\n",
       "      <td>155</td>\n",
       "      <td>339</td>\n",
       "      <td>74</td>\n",
       "      <td>-12</td>\n",
       "      <td>4</td>\n",
       "    </tr>\n",
       "    <tr>\n",
       "      <th>2012-01-31</th>\n",
       "      <td>Redmond, WA</td>\n",
       "      <td>385</td>\n",
       "      <td>69</td>\n",
       "      <td>98</td>\n",
       "      <td>272</td>\n",
       "      <td>114</td>\n",
       "      <td>31</td>\n",
       "      <td>18</td>\n",
       "    </tr>\n",
       "    <tr>\n",
       "      <th>2012-01-31</th>\n",
       "      <td>Mill Creek, WA</td>\n",
       "      <td>320</td>\n",
       "      <td>23</td>\n",
       "      <td>29</td>\n",
       "      <td>87</td>\n",
       "      <td>62</td>\n",
       "      <td>34</td>\n",
       "      <td>-35</td>\n",
       "    </tr>\n",
       "    <tr>\n",
       "      <th>2012-01-31</th>\n",
       "      <td>Mountlake Terrace, WA</td>\n",
       "      <td>119</td>\n",
       "      <td>11</td>\n",
       "      <td>36</td>\n",
       "      <td>65</td>\n",
       "      <td>35</td>\n",
       "      <td>4</td>\n",
       "      <td>-58</td>\n",
       "    </tr>\n",
       "  </tbody>\n",
       "</table>\n",
       "</div>"
      ],
      "text/plain": [
       "                           Region  Median Sale Price Homes Sold New Listings  \\\n",
       "Date                                                                           \n",
       "2012-01-31             Auburn, WA                188         81          118   \n",
       "2012-01-31         Marysville, WA                180         78           93   \n",
       "2012-01-31              Brier, WA                540          7            5   \n",
       "2012-01-31             Renton, WA                244        116          160   \n",
       "2012-01-31      Mercer Island, WA                863         12           40   \n",
       "2012-01-31            Tukwila, WA                122         15           17   \n",
       "2012-01-31            Bothell, WA                314        117          155   \n",
       "2012-01-31            Redmond, WA                385         69           98   \n",
       "2012-01-31         Mill Creek, WA                320         23           29   \n",
       "2012-01-31  Mountlake Terrace, WA                119         11           36   \n",
       "\n",
       "           Inventory  Days on Market  Days on Market MoM  Days on Market YoY  \n",
       "Date                                                                          \n",
       "2012-01-31       447             107                  38                  10  \n",
       "2012-01-31       285              65                  12                  -7  \n",
       "2012-01-31        26             147                  71                  38  \n",
       "2012-01-31       485              88                  27                 -14  \n",
       "2012-01-31       105              88                   3                 -87  \n",
       "2012-01-31        60              98                  -2                 -29  \n",
       "2012-01-31       339              74                 -12                   4  \n",
       "2012-01-31       272             114                  31                  18  \n",
       "2012-01-31        87              62                  34                 -35  \n",
       "2012-01-31        65              35                   4                 -58  "
      ]
     },
     "execution_count": 2,
     "metadata": {},
     "output_type": "execute_result"
    }
   ],
   "source": [
    "# Reading housing prices data\n",
    "file_path = Path(\"../Resources/housing_prices_month_clean.csv\")\n",
    "housing_price_df = pd.read_csv(file_path, index_col='Date', infer_datetime_format=True, parse_dates=True)\n",
    "housing_price_df.sort_index(inplace=True)\n",
    "housing_price_df.head(10)"
   ]
  },
  {
   "cell_type": "code",
   "execution_count": 3,
   "id": "flexible-award",
   "metadata": {},
   "outputs": [
    {
     "data": {
      "text/html": [
       "<div>\n",
       "<style scoped>\n",
       "    .dataframe tbody tr th:only-of-type {\n",
       "        vertical-align: middle;\n",
       "    }\n",
       "\n",
       "    .dataframe tbody tr th {\n",
       "        vertical-align: top;\n",
       "    }\n",
       "\n",
       "    .dataframe thead th {\n",
       "        text-align: right;\n",
       "    }\n",
       "</style>\n",
       "<table border=\"1\" class=\"dataframe\">\n",
       "  <thead>\n",
       "    <tr style=\"text-align: right;\">\n",
       "      <th></th>\n",
       "      <th>Region</th>\n",
       "      <th>Median Sale Price</th>\n",
       "      <th>Homes Sold</th>\n",
       "      <th>New Listings</th>\n",
       "      <th>Inventory</th>\n",
       "      <th>Days on Market</th>\n",
       "      <th>Days on Market MoM</th>\n",
       "      <th>Days on Market YoY</th>\n",
       "    </tr>\n",
       "    <tr>\n",
       "      <th>Date</th>\n",
       "      <th></th>\n",
       "      <th></th>\n",
       "      <th></th>\n",
       "      <th></th>\n",
       "      <th></th>\n",
       "      <th></th>\n",
       "      <th></th>\n",
       "      <th></th>\n",
       "    </tr>\n",
       "  </thead>\n",
       "  <tbody>\n",
       "    <tr>\n",
       "      <th>2012-01-31</th>\n",
       "      <td>Auburn</td>\n",
       "      <td>188</td>\n",
       "      <td>81</td>\n",
       "      <td>118</td>\n",
       "      <td>447</td>\n",
       "      <td>107</td>\n",
       "      <td>38</td>\n",
       "      <td>10</td>\n",
       "    </tr>\n",
       "    <tr>\n",
       "      <th>2012-01-31</th>\n",
       "      <td>Marysville</td>\n",
       "      <td>180</td>\n",
       "      <td>78</td>\n",
       "      <td>93</td>\n",
       "      <td>285</td>\n",
       "      <td>65</td>\n",
       "      <td>12</td>\n",
       "      <td>-7</td>\n",
       "    </tr>\n",
       "    <tr>\n",
       "      <th>2012-01-31</th>\n",
       "      <td>Brier</td>\n",
       "      <td>540</td>\n",
       "      <td>7</td>\n",
       "      <td>5</td>\n",
       "      <td>26</td>\n",
       "      <td>147</td>\n",
       "      <td>71</td>\n",
       "      <td>38</td>\n",
       "    </tr>\n",
       "    <tr>\n",
       "      <th>2012-01-31</th>\n",
       "      <td>Renton</td>\n",
       "      <td>244</td>\n",
       "      <td>116</td>\n",
       "      <td>160</td>\n",
       "      <td>485</td>\n",
       "      <td>88</td>\n",
       "      <td>27</td>\n",
       "      <td>-14</td>\n",
       "    </tr>\n",
       "    <tr>\n",
       "      <th>2012-01-31</th>\n",
       "      <td>Mercer Island</td>\n",
       "      <td>863</td>\n",
       "      <td>12</td>\n",
       "      <td>40</td>\n",
       "      <td>105</td>\n",
       "      <td>88</td>\n",
       "      <td>3</td>\n",
       "      <td>-87</td>\n",
       "    </tr>\n",
       "  </tbody>\n",
       "</table>\n",
       "</div>"
      ],
      "text/plain": [
       "                   Region  Median Sale Price Homes Sold New Listings  \\\n",
       "Date                                                                   \n",
       "2012-01-31         Auburn                188         81          118   \n",
       "2012-01-31     Marysville                180         78           93   \n",
       "2012-01-31          Brier                540          7            5   \n",
       "2012-01-31         Renton                244        116          160   \n",
       "2012-01-31  Mercer Island                863         12           40   \n",
       "\n",
       "           Inventory  Days on Market  Days on Market MoM  Days on Market YoY  \n",
       "Date                                                                          \n",
       "2012-01-31       447             107                  38                  10  \n",
       "2012-01-31       285              65                  12                  -7  \n",
       "2012-01-31        26             147                  71                  38  \n",
       "2012-01-31       485              88                  27                 -14  \n",
       "2012-01-31       105              88                   3                 -87  "
      ]
     },
     "execution_count": 3,
     "metadata": {},
     "output_type": "execute_result"
    }
   ],
   "source": [
    "housing_price_df['Region'] = housing_price_df['Region'].str.split(',', expand=True)[0]\n",
    "housing_price_df.head()"
   ]
  },
  {
   "cell_type": "code",
   "execution_count": 4,
   "id": "normal-pacific",
   "metadata": {},
   "outputs": [
    {
     "data": {
      "text/plain": [
       "Region                0\n",
       "Median Sale Price     0\n",
       "Homes Sold            0\n",
       "New Listings          0\n",
       "Inventory             0\n",
       "Days on Market        0\n",
       "Days on Market MoM    0\n",
       "Days on Market YoY    0\n",
       "dtype: int64"
      ]
     },
     "execution_count": 4,
     "metadata": {},
     "output_type": "execute_result"
    }
   ],
   "source": [
    "# Count nulls\n",
    "housing_price_df_null = housing_price_df.isnull().sum()\n",
    "housing_price_df_null"
   ]
  },
  {
   "cell_type": "code",
   "execution_count": 5,
   "id": "logical-bankruptcy",
   "metadata": {},
   "outputs": [
    {
     "data": {
      "text/plain": [
       "Date\n",
       "2012-01-31    447\n",
       "2012-01-31    285\n",
       "2012-01-31     26\n",
       "2012-01-31    485\n",
       "2012-01-31    105\n",
       "Name: Inventory, dtype: object"
      ]
     },
     "execution_count": 5,
     "metadata": {},
     "output_type": "execute_result"
    }
   ],
   "source": [
    "housing_price_df['Inventory'] = housing_price_df['Inventory'].str.replace(\",\", \"\")\n",
    "housing_price_df['Inventory'].head() "
   ]
  },
  {
   "cell_type": "code",
   "execution_count": 6,
   "id": "heated-massachusetts",
   "metadata": {},
   "outputs": [
    {
     "data": {
      "text/plain": [
       "Region                object\n",
       "Median Sale Price      int64\n",
       "Homes Sold            object\n",
       "New Listings          object\n",
       "Inventory              int64\n",
       "Days on Market         int64\n",
       "Days on Market MoM     int64\n",
       "Days on Market YoY     int64\n",
       "dtype: object"
      ]
     },
     "execution_count": 6,
     "metadata": {},
     "output_type": "execute_result"
    }
   ],
   "source": [
    "#Convert `Close` from `object` to `float`.\n",
    "housing_price_df['Inventory'] = housing_price_df['Inventory'].astype('int')\n",
    "housing_price_df['Inventory']\n",
    "\n",
    "housing_price_df.dtypes"
   ]
  },
  {
   "cell_type": "code",
   "execution_count": 7,
   "id": "comparative-scholarship",
   "metadata": {},
   "outputs": [
    {
     "data": {
      "text/plain": [
       "Region                object\n",
       "Median Sale Price      int64\n",
       "Homes Sold             int64\n",
       "New Listings          object\n",
       "Inventory              int64\n",
       "Days on Market         int64\n",
       "Days on Market MoM     int64\n",
       "Days on Market YoY     int64\n",
       "dtype: object"
      ]
     },
     "execution_count": 7,
     "metadata": {},
     "output_type": "execute_result"
    }
   ],
   "source": [
    "housing_price_df['Homes Sold'] = housing_price_df['Homes Sold'].str.replace(\",\", \"\")\n",
    "housing_price_df['Homes Sold'] = housing_price_df['Homes Sold'].astype('int')\n",
    "housing_price_df['Homes Sold']\n",
    "\n",
    "housing_price_df.dtypes"
   ]
  },
  {
   "cell_type": "code",
   "execution_count": 8,
   "id": "driving-crack",
   "metadata": {},
   "outputs": [
    {
     "data": {
      "text/plain": [
       "Region                object\n",
       "Median Sale Price      int64\n",
       "Homes Sold             int64\n",
       "New Listings           int64\n",
       "Inventory              int64\n",
       "Days on Market         int64\n",
       "Days on Market MoM     int64\n",
       "Days on Market YoY     int64\n",
       "dtype: object"
      ]
     },
     "execution_count": 8,
     "metadata": {},
     "output_type": "execute_result"
    }
   ],
   "source": [
    "housing_price_df['New Listings'] = housing_price_df['New Listings'].str.replace(\",\", \"\")\n",
    "housing_price_df['New Listings'] = housing_price_df['New Listings'].astype('int')\n",
    "housing_price_df['New Listings']\n",
    "\n",
    "housing_price_df.dtypes"
   ]
  },
  {
   "cell_type": "code",
   "execution_count": 9,
   "id": "german-england",
   "metadata": {},
   "outputs": [
    {
     "data": {
      "text/html": [
       "<div>\n",
       "<style scoped>\n",
       "    .dataframe tbody tr th:only-of-type {\n",
       "        vertical-align: middle;\n",
       "    }\n",
       "\n",
       "    .dataframe tbody tr th {\n",
       "        vertical-align: top;\n",
       "    }\n",
       "\n",
       "    .dataframe thead th {\n",
       "        text-align: right;\n",
       "    }\n",
       "</style>\n",
       "<table border=\"1\" class=\"dataframe\">\n",
       "  <thead>\n",
       "    <tr style=\"text-align: right;\">\n",
       "      <th></th>\n",
       "      <th>Region</th>\n",
       "      <th>Median Sale Price</th>\n",
       "      <th>Homes Sold</th>\n",
       "      <th>New Listings</th>\n",
       "      <th>Inventory</th>\n",
       "      <th>Days on Market</th>\n",
       "      <th>Days on Market MoM</th>\n",
       "      <th>Days on Market YoY</th>\n",
       "    </tr>\n",
       "    <tr>\n",
       "      <th>Date</th>\n",
       "      <th></th>\n",
       "      <th></th>\n",
       "      <th></th>\n",
       "      <th></th>\n",
       "      <th></th>\n",
       "      <th></th>\n",
       "      <th></th>\n",
       "      <th></th>\n",
       "    </tr>\n",
       "  </thead>\n",
       "  <tbody>\n",
       "    <tr>\n",
       "      <th>2012-01-31</th>\n",
       "      <td>Auburn</td>\n",
       "      <td>188</td>\n",
       "      <td>81</td>\n",
       "      <td>118</td>\n",
       "      <td>447</td>\n",
       "      <td>107</td>\n",
       "      <td>38</td>\n",
       "      <td>10</td>\n",
       "    </tr>\n",
       "    <tr>\n",
       "      <th>2012-01-31</th>\n",
       "      <td>Marysville</td>\n",
       "      <td>180</td>\n",
       "      <td>78</td>\n",
       "      <td>93</td>\n",
       "      <td>285</td>\n",
       "      <td>65</td>\n",
       "      <td>12</td>\n",
       "      <td>-7</td>\n",
       "    </tr>\n",
       "    <tr>\n",
       "      <th>2012-01-31</th>\n",
       "      <td>Brier</td>\n",
       "      <td>540</td>\n",
       "      <td>7</td>\n",
       "      <td>5</td>\n",
       "      <td>26</td>\n",
       "      <td>147</td>\n",
       "      <td>71</td>\n",
       "      <td>38</td>\n",
       "    </tr>\n",
       "    <tr>\n",
       "      <th>2012-01-31</th>\n",
       "      <td>Renton</td>\n",
       "      <td>244</td>\n",
       "      <td>116</td>\n",
       "      <td>160</td>\n",
       "      <td>485</td>\n",
       "      <td>88</td>\n",
       "      <td>27</td>\n",
       "      <td>-14</td>\n",
       "    </tr>\n",
       "    <tr>\n",
       "      <th>2012-01-31</th>\n",
       "      <td>Mercer Island</td>\n",
       "      <td>863</td>\n",
       "      <td>12</td>\n",
       "      <td>40</td>\n",
       "      <td>105</td>\n",
       "      <td>88</td>\n",
       "      <td>3</td>\n",
       "      <td>-87</td>\n",
       "    </tr>\n",
       "  </tbody>\n",
       "</table>\n",
       "</div>"
      ],
      "text/plain": [
       "                   Region  Median Sale Price  Homes Sold  New Listings  \\\n",
       "Date                                                                     \n",
       "2012-01-31         Auburn                188          81           118   \n",
       "2012-01-31     Marysville                180          78            93   \n",
       "2012-01-31          Brier                540           7             5   \n",
       "2012-01-31         Renton                244         116           160   \n",
       "2012-01-31  Mercer Island                863          12            40   \n",
       "\n",
       "            Inventory  Days on Market  Days on Market MoM  Days on Market YoY  \n",
       "Date                                                                           \n",
       "2012-01-31        447             107                  38                  10  \n",
       "2012-01-31        285              65                  12                  -7  \n",
       "2012-01-31         26             147                  71                  38  \n",
       "2012-01-31        485              88                  27                 -14  \n",
       "2012-01-31        105              88                   3                 -87  "
      ]
     },
     "execution_count": 9,
     "metadata": {},
     "output_type": "execute_result"
    }
   ],
   "source": [
    "housing_price_df.head()"
   ]
  },
  {
   "cell_type": "code",
   "execution_count": 10,
   "id": "surprised-night",
   "metadata": {},
   "outputs": [],
   "source": [
    "housing_price_df.to_csv('dashboard/housing_price_df.csv', index=\"Date\")"
   ]
  },
  {
   "cell_type": "code",
   "execution_count": 11,
   "id": "appropriate-vietnam",
   "metadata": {},
   "outputs": [
    {
     "data": {
      "text/html": [
       "<div>\n",
       "<style scoped>\n",
       "    .dataframe tbody tr th:only-of-type {\n",
       "        vertical-align: middle;\n",
       "    }\n",
       "\n",
       "    .dataframe tbody tr th {\n",
       "        vertical-align: top;\n",
       "    }\n",
       "\n",
       "    .dataframe thead th {\n",
       "        text-align: right;\n",
       "    }\n",
       "</style>\n",
       "<table border=\"1\" class=\"dataframe\">\n",
       "  <thead>\n",
       "    <tr style=\"text-align: right;\">\n",
       "      <th></th>\n",
       "      <th>Median Sale Price</th>\n",
       "      <th>Homes Sold</th>\n",
       "      <th>New Listings</th>\n",
       "      <th>Inventory</th>\n",
       "      <th>Days on Market</th>\n",
       "      <th>Days on Market MoM</th>\n",
       "      <th>Days on Market YoY</th>\n",
       "    </tr>\n",
       "  </thead>\n",
       "  <tbody>\n",
       "    <tr>\n",
       "      <th>Median Sale Price</th>\n",
       "      <td>1.000000</td>\n",
       "      <td>-0.023168</td>\n",
       "      <td>-0.025732</td>\n",
       "      <td>-0.076468</td>\n",
       "      <td>-0.294333</td>\n",
       "      <td>0.015330</td>\n",
       "      <td>0.133827</td>\n",
       "    </tr>\n",
       "    <tr>\n",
       "      <th>Homes Sold</th>\n",
       "      <td>-0.023168</td>\n",
       "      <td>1.000000</td>\n",
       "      <td>0.971352</td>\n",
       "      <td>0.921674</td>\n",
       "      <td>-0.082790</td>\n",
       "      <td>0.002838</td>\n",
       "      <td>0.017621</td>\n",
       "    </tr>\n",
       "    <tr>\n",
       "      <th>New Listings</th>\n",
       "      <td>-0.025732</td>\n",
       "      <td>0.971352</td>\n",
       "      <td>1.000000</td>\n",
       "      <td>0.916346</td>\n",
       "      <td>-0.082074</td>\n",
       "      <td>-0.011253</td>\n",
       "      <td>0.016426</td>\n",
       "    </tr>\n",
       "    <tr>\n",
       "      <th>Inventory</th>\n",
       "      <td>-0.076468</td>\n",
       "      <td>0.921674</td>\n",
       "      <td>0.916346</td>\n",
       "      <td>1.000000</td>\n",
       "      <td>0.000695</td>\n",
       "      <td>0.004472</td>\n",
       "      <td>0.009068</td>\n",
       "    </tr>\n",
       "    <tr>\n",
       "      <th>Days on Market</th>\n",
       "      <td>-0.294333</td>\n",
       "      <td>-0.082790</td>\n",
       "      <td>-0.082074</td>\n",
       "      <td>0.000695</td>\n",
       "      <td>1.000000</td>\n",
       "      <td>0.338288</td>\n",
       "      <td>0.195358</td>\n",
       "    </tr>\n",
       "    <tr>\n",
       "      <th>Days on Market MoM</th>\n",
       "      <td>0.015330</td>\n",
       "      <td>0.002838</td>\n",
       "      <td>-0.011253</td>\n",
       "      <td>0.004472</td>\n",
       "      <td>0.338288</td>\n",
       "      <td>1.000000</td>\n",
       "      <td>0.350020</td>\n",
       "    </tr>\n",
       "    <tr>\n",
       "      <th>Days on Market YoY</th>\n",
       "      <td>0.133827</td>\n",
       "      <td>0.017621</td>\n",
       "      <td>0.016426</td>\n",
       "      <td>0.009068</td>\n",
       "      <td>0.195358</td>\n",
       "      <td>0.350020</td>\n",
       "      <td>1.000000</td>\n",
       "    </tr>\n",
       "  </tbody>\n",
       "</table>\n",
       "</div>"
      ],
      "text/plain": [
       "                    Median Sale Price  Homes Sold  New Listings  Inventory  \\\n",
       "Median Sale Price            1.000000   -0.023168     -0.025732  -0.076468   \n",
       "Homes Sold                  -0.023168    1.000000      0.971352   0.921674   \n",
       "New Listings                -0.025732    0.971352      1.000000   0.916346   \n",
       "Inventory                   -0.076468    0.921674      0.916346   1.000000   \n",
       "Days on Market              -0.294333   -0.082790     -0.082074   0.000695   \n",
       "Days on Market MoM           0.015330    0.002838     -0.011253   0.004472   \n",
       "Days on Market YoY           0.133827    0.017621      0.016426   0.009068   \n",
       "\n",
       "                    Days on Market  Days on Market MoM  Days on Market YoY  \n",
       "Median Sale Price        -0.294333            0.015330            0.133827  \n",
       "Homes Sold               -0.082790            0.002838            0.017621  \n",
       "New Listings             -0.082074           -0.011253            0.016426  \n",
       "Inventory                 0.000695            0.004472            0.009068  \n",
       "Days on Market            1.000000            0.338288            0.195358  \n",
       "Days on Market MoM        0.338288            1.000000            0.350020  \n",
       "Days on Market YoY        0.195358            0.350020            1.000000  "
      ]
     },
     "execution_count": 11,
     "metadata": {},
     "output_type": "execute_result"
    }
   ],
   "source": [
    "housing_price_df.corr()"
   ]
  },
  {
   "cell_type": "code",
   "execution_count": 12,
   "id": "recognized-breathing",
   "metadata": {},
   "outputs": [
    {
     "data": {
      "image/png": "[encoded data removed]",
      "text/plain": [
       "<Figure size 432x288 with 2 Axes>"
      ]
     },
     "metadata": {
      "needs_background": "light"
     },
     "output_type": "display_data"
    }
   ],
   "source": [
    "corr_plot = sns.heatmap(housing_price_df.corr(), vmin=-1, vmax=1, annot=True)"
   ]
  },
  {
   "cell_type": "markdown",
   "id": "collectible-texas",
   "metadata": {},
   "source": [
    "Asset Correlation"
   ]
  },
  {
   "cell_type": "code",
   "execution_count": 13,
   "id": "possible-things",
   "metadata": {},
   "outputs": [
    {
     "data": {
      "text/html": [
       "<div>\n",
       "<style scoped>\n",
       "    .dataframe tbody tr th:only-of-type {\n",
       "        vertical-align: middle;\n",
       "    }\n",
       "\n",
       "    .dataframe tbody tr th {\n",
       "        vertical-align: top;\n",
       "    }\n",
       "\n",
       "    .dataframe thead th {\n",
       "        text-align: right;\n",
       "    }\n",
       "</style>\n",
       "<table border=\"1\" class=\"dataframe\">\n",
       "  <thead>\n",
       "    <tr style=\"text-align: right;\">\n",
       "      <th></th>\n",
       "      <th>AMZN</th>\n",
       "      <th>BA</th>\n",
       "      <th>MSFT</th>\n",
       "      <th>BTC</th>\n",
       "      <th>Gold</th>\n",
       "      <th>30 T-Bond</th>\n",
       "    </tr>\n",
       "    <tr>\n",
       "      <th>Date</th>\n",
       "      <th></th>\n",
       "      <th></th>\n",
       "      <th></th>\n",
       "      <th></th>\n",
       "      <th></th>\n",
       "      <th></th>\n",
       "    </tr>\n",
       "  </thead>\n",
       "  <tbody>\n",
       "    <tr>\n",
       "      <th>2012-02-29</th>\n",
       "      <td>179.69</td>\n",
       "      <td>74.95</td>\n",
       "      <td>31.74</td>\n",
       "      <td>NaN</td>\n",
       "      <td>1716.6</td>\n",
       "      <td>3.08</td>\n",
       "    </tr>\n",
       "    <tr>\n",
       "      <th>2012-03-31</th>\n",
       "      <td>202.51</td>\n",
       "      <td>74.37</td>\n",
       "      <td>32.26</td>\n",
       "      <td>NaN</td>\n",
       "      <td>1674.3</td>\n",
       "      <td>3.35</td>\n",
       "    </tr>\n",
       "    <tr>\n",
       "      <th>2012-04-30</th>\n",
       "      <td>231.90</td>\n",
       "      <td>76.80</td>\n",
       "      <td>32.02</td>\n",
       "      <td>NaN</td>\n",
       "      <td>1666.5</td>\n",
       "      <td>3.12</td>\n",
       "    </tr>\n",
       "    <tr>\n",
       "      <th>2012-05-31</th>\n",
       "      <td>212.91</td>\n",
       "      <td>69.61</td>\n",
       "      <td>29.19</td>\n",
       "      <td>NaN</td>\n",
       "      <td>1564.2</td>\n",
       "      <td>2.67</td>\n",
       "    </tr>\n",
       "    <tr>\n",
       "      <th>2012-06-30</th>\n",
       "      <td>228.35</td>\n",
       "      <td>74.30</td>\n",
       "      <td>30.59</td>\n",
       "      <td>NaN</td>\n",
       "      <td>1604.2</td>\n",
       "      <td>2.76</td>\n",
       "    </tr>\n",
       "  </tbody>\n",
       "</table>\n",
       "</div>"
      ],
      "text/plain": [
       "              AMZN     BA   MSFT  BTC    Gold  30 T-Bond\n",
       "Date                                                    \n",
       "2012-02-29  179.69  74.95  31.74  NaN  1716.6       3.08\n",
       "2012-03-31  202.51  74.37  32.26  NaN  1674.3       3.35\n",
       "2012-04-30  231.90  76.80  32.02  NaN  1666.5       3.12\n",
       "2012-05-31  212.91  69.61  29.19  NaN  1564.2       2.67\n",
       "2012-06-30  228.35  74.30  30.59  NaN  1604.2       2.76"
      ]
     },
     "execution_count": 13,
     "metadata": {},
     "output_type": "execute_result"
    }
   ],
   "source": [
    "# Load the asset price data\n",
    "file_path = Path(\"../Resources/Asset_Prices_Month.csv\") \n",
    "asset_data_df = pd.read_csv(file_path, index_col=\"Date\", infer_datetime_format=True, parse_dates=True)\n",
    "asset_data_df.head()"
   ]
  },
  {
   "cell_type": "code",
   "execution_count": 14,
   "id": "monthly-heating",
   "metadata": {},
   "outputs": [],
   "source": [
    "asset_data_df.to_csv('dashboard/asset_data_df.csv')"
   ]
  },
  {
   "cell_type": "code",
   "execution_count": 15,
   "id": "exterior-particular",
   "metadata": {},
   "outputs": [
    {
     "data": {
      "text/plain": [
       "AMZN         float64\n",
       "BA           float64\n",
       "MSFT         float64\n",
       "BTC          float64\n",
       "Gold         float64\n",
       "30 T-Bond    float64\n",
       "dtype: object"
      ]
     },
     "execution_count": 15,
     "metadata": {},
     "output_type": "execute_result"
    }
   ],
   "source": [
    "asset_data_df.dtypes"
   ]
  },
  {
   "cell_type": "code",
   "execution_count": 16,
   "id": "honey-benefit",
   "metadata": {},
   "outputs": [
    {
     "data": {
      "text/html": [
       "<div>\n",
       "<style scoped>\n",
       "    .dataframe tbody tr th:only-of-type {\n",
       "        vertical-align: middle;\n",
       "    }\n",
       "\n",
       "    .dataframe tbody tr th {\n",
       "        vertical-align: top;\n",
       "    }\n",
       "\n",
       "    .dataframe thead th {\n",
       "        text-align: right;\n",
       "    }\n",
       "</style>\n",
       "<table border=\"1\" class=\"dataframe\">\n",
       "  <thead>\n",
       "    <tr style=\"text-align: right;\">\n",
       "      <th></th>\n",
       "      <th>AMZN</th>\n",
       "      <th>BA</th>\n",
       "      <th>MSFT</th>\n",
       "      <th>BTC</th>\n",
       "      <th>Gold</th>\n",
       "      <th>30 T-Bond</th>\n",
       "    </tr>\n",
       "    <tr>\n",
       "      <th>Date</th>\n",
       "      <th></th>\n",
       "      <th></th>\n",
       "      <th></th>\n",
       "      <th></th>\n",
       "      <th></th>\n",
       "      <th></th>\n",
       "    </tr>\n",
       "  </thead>\n",
       "  <tbody>\n",
       "    <tr>\n",
       "      <th>2012-02-29</th>\n",
       "      <td>NaN</td>\n",
       "      <td>NaN</td>\n",
       "      <td>NaN</td>\n",
       "      <td>NaN</td>\n",
       "      <td>NaN</td>\n",
       "      <td>NaN</td>\n",
       "    </tr>\n",
       "    <tr>\n",
       "      <th>2012-03-31</th>\n",
       "      <td>0.126996</td>\n",
       "      <td>-0.007738</td>\n",
       "      <td>0.016383</td>\n",
       "      <td>NaN</td>\n",
       "      <td>-0.024642</td>\n",
       "      <td>0.087662</td>\n",
       "    </tr>\n",
       "    <tr>\n",
       "      <th>2012-04-30</th>\n",
       "      <td>0.145129</td>\n",
       "      <td>0.032674</td>\n",
       "      <td>-0.007440</td>\n",
       "      <td>NaN</td>\n",
       "      <td>-0.004659</td>\n",
       "      <td>-0.068657</td>\n",
       "    </tr>\n",
       "    <tr>\n",
       "      <th>2012-05-31</th>\n",
       "      <td>-0.081889</td>\n",
       "      <td>-0.093620</td>\n",
       "      <td>-0.088382</td>\n",
       "      <td>NaN</td>\n",
       "      <td>-0.061386</td>\n",
       "      <td>-0.144231</td>\n",
       "    </tr>\n",
       "    <tr>\n",
       "      <th>2012-06-30</th>\n",
       "      <td>0.072519</td>\n",
       "      <td>0.067375</td>\n",
       "      <td>0.047962</td>\n",
       "      <td>NaN</td>\n",
       "      <td>0.025572</td>\n",
       "      <td>0.033708</td>\n",
       "    </tr>\n",
       "  </tbody>\n",
       "</table>\n",
       "</div>"
      ],
      "text/plain": [
       "                AMZN        BA      MSFT  BTC      Gold  30 T-Bond\n",
       "Date                                                              \n",
       "2012-02-29       NaN       NaN       NaN  NaN       NaN        NaN\n",
       "2012-03-31  0.126996 -0.007738  0.016383  NaN -0.024642   0.087662\n",
       "2012-04-30  0.145129  0.032674 -0.007440  NaN -0.004659  -0.068657\n",
       "2012-05-31 -0.081889 -0.093620 -0.088382  NaN -0.061386  -0.144231\n",
       "2012-06-30  0.072519  0.067375  0.047962  NaN  0.025572   0.033708"
      ]
     },
     "execution_count": 16,
     "metadata": {},
     "output_type": "execute_result"
    }
   ],
   "source": [
    "asset_returns = asset_data_df.pct_change()\n",
    "asset_returns.head()"
   ]
  },
  {
   "cell_type": "code",
   "execution_count": 17,
   "id": "dried-adventure",
   "metadata": {},
   "outputs": [
    {
     "data": {
      "text/html": [
       "<div>\n",
       "<style scoped>\n",
       "    .dataframe tbody tr th:only-of-type {\n",
       "        vertical-align: middle;\n",
       "    }\n",
       "\n",
       "    .dataframe tbody tr th {\n",
       "        vertical-align: top;\n",
       "    }\n",
       "\n",
       "    .dataframe thead th {\n",
       "        text-align: right;\n",
       "    }\n",
       "</style>\n",
       "<table border=\"1\" class=\"dataframe\">\n",
       "  <thead>\n",
       "    <tr style=\"text-align: right;\">\n",
       "      <th></th>\n",
       "      <th>Median Sale Price</th>\n",
       "    </tr>\n",
       "    <tr>\n",
       "      <th>Date</th>\n",
       "      <th></th>\n",
       "    </tr>\n",
       "  </thead>\n",
       "  <tbody>\n",
       "    <tr>\n",
       "      <th>2012-02-29</th>\n",
       "      <td>309511.1111</td>\n",
       "    </tr>\n",
       "    <tr>\n",
       "      <th>2012-03-31</th>\n",
       "      <td>313230.5556</td>\n",
       "    </tr>\n",
       "    <tr>\n",
       "      <th>2012-04-30</th>\n",
       "      <td>325841.1111</td>\n",
       "    </tr>\n",
       "    <tr>\n",
       "      <th>2012-05-31</th>\n",
       "      <td>335194.4444</td>\n",
       "    </tr>\n",
       "    <tr>\n",
       "      <th>2012-06-30</th>\n",
       "      <td>331952.2222</td>\n",
       "    </tr>\n",
       "  </tbody>\n",
       "</table>\n",
       "</div>"
      ],
      "text/plain": [
       "            Median Sale Price\n",
       "Date                         \n",
       "2012-02-29        309511.1111\n",
       "2012-03-31        313230.5556\n",
       "2012-04-30        325841.1111\n",
       "2012-05-31        335194.4444\n",
       "2012-06-30        331952.2222"
      ]
     },
     "execution_count": 17,
     "metadata": {},
     "output_type": "execute_result"
    }
   ],
   "source": [
    "# Read the housing price aggregate data, set the `Date` as the index\n",
    "file_path = Path(\"../Resources/housing_prices_month_aggregate_clean.csv\") \n",
    "housing_data_df = pd.read_csv(file_path, index_col=\"Date\", infer_datetime_format=True, parse_dates=True)\n",
    "housing_data_df.head()"
   ]
  },
  {
   "cell_type": "code",
   "execution_count": 18,
   "id": "permanent-trail",
   "metadata": {},
   "outputs": [
    {
     "data": {
      "text/html": [
       "<div>\n",
       "<style scoped>\n",
       "    .dataframe tbody tr th:only-of-type {\n",
       "        vertical-align: middle;\n",
       "    }\n",
       "\n",
       "    .dataframe tbody tr th {\n",
       "        vertical-align: top;\n",
       "    }\n",
       "\n",
       "    .dataframe thead th {\n",
       "        text-align: right;\n",
       "    }\n",
       "</style>\n",
       "<table border=\"1\" class=\"dataframe\">\n",
       "  <thead>\n",
       "    <tr style=\"text-align: right;\">\n",
       "      <th></th>\n",
       "      <th>AMZN</th>\n",
       "      <th>BA</th>\n",
       "      <th>MSFT</th>\n",
       "      <th>BTC</th>\n",
       "      <th>Gold</th>\n",
       "      <th>30 T-Bond</th>\n",
       "      <th>Median Sale Price</th>\n",
       "    </tr>\n",
       "    <tr>\n",
       "      <th>Date</th>\n",
       "      <th></th>\n",
       "      <th></th>\n",
       "      <th></th>\n",
       "      <th></th>\n",
       "      <th></th>\n",
       "      <th></th>\n",
       "      <th></th>\n",
       "    </tr>\n",
       "  </thead>\n",
       "  <tbody>\n",
       "    <tr>\n",
       "      <th>2012-02-29</th>\n",
       "      <td>179.69</td>\n",
       "      <td>74.95</td>\n",
       "      <td>31.74</td>\n",
       "      <td>NaN</td>\n",
       "      <td>1716.6</td>\n",
       "      <td>3.08</td>\n",
       "      <td>309511.1111</td>\n",
       "    </tr>\n",
       "    <tr>\n",
       "      <th>2012-03-31</th>\n",
       "      <td>202.51</td>\n",
       "      <td>74.37</td>\n",
       "      <td>32.26</td>\n",
       "      <td>NaN</td>\n",
       "      <td>1674.3</td>\n",
       "      <td>3.35</td>\n",
       "      <td>313230.5556</td>\n",
       "    </tr>\n",
       "    <tr>\n",
       "      <th>2012-04-30</th>\n",
       "      <td>231.90</td>\n",
       "      <td>76.80</td>\n",
       "      <td>32.02</td>\n",
       "      <td>NaN</td>\n",
       "      <td>1666.5</td>\n",
       "      <td>3.12</td>\n",
       "      <td>325841.1111</td>\n",
       "    </tr>\n",
       "    <tr>\n",
       "      <th>2012-05-31</th>\n",
       "      <td>212.91</td>\n",
       "      <td>69.61</td>\n",
       "      <td>29.19</td>\n",
       "      <td>NaN</td>\n",
       "      <td>1564.2</td>\n",
       "      <td>2.67</td>\n",
       "      <td>335194.4444</td>\n",
       "    </tr>\n",
       "    <tr>\n",
       "      <th>2012-06-30</th>\n",
       "      <td>228.35</td>\n",
       "      <td>74.30</td>\n",
       "      <td>30.59</td>\n",
       "      <td>NaN</td>\n",
       "      <td>1604.2</td>\n",
       "      <td>2.76</td>\n",
       "      <td>331952.2222</td>\n",
       "    </tr>\n",
       "  </tbody>\n",
       "</table>\n",
       "</div>"
      ],
      "text/plain": [
       "              AMZN     BA   MSFT  BTC    Gold  30 T-Bond  Median Sale Price\n",
       "Date                                                                       \n",
       "2012-02-29  179.69  74.95  31.74  NaN  1716.6       3.08        309511.1111\n",
       "2012-03-31  202.51  74.37  32.26  NaN  1674.3       3.35        313230.5556\n",
       "2012-04-30  231.90  76.80  32.02  NaN  1666.5       3.12        325841.1111\n",
       "2012-05-31  212.91  69.61  29.19  NaN  1564.2       2.67        335194.4444\n",
       "2012-06-30  228.35  74.30  30.59  NaN  1604.2       2.76        331952.2222"
      ]
     },
     "execution_count": 18,
     "metadata": {},
     "output_type": "execute_result"
    }
   ],
   "source": [
    "# Use the `concat` function to combine the two DataFrames by matching indexes (or in this case `Date`)\n",
    "combined_df_asset = pd.concat([asset_data_df, housing_data_df], axis='columns', join='inner')\n",
    "combined_df_asset.head()"
   ]
  },
  {
   "cell_type": "code",
   "execution_count": 19,
   "id": "based-jamaica",
   "metadata": {},
   "outputs": [],
   "source": [
    "combined_df_asset['BTC'].fillna(0, inplace=True)"
   ]
  },
  {
   "cell_type": "code",
   "execution_count": 20,
   "id": "relative-hammer",
   "metadata": {},
   "outputs": [],
   "source": [
    "combined_df_asset.to_csv('dashboard/combined_df_asset.csv')"
   ]
  },
  {
   "cell_type": "code",
   "execution_count": 21,
   "id": "assured-gazette",
   "metadata": {},
   "outputs": [
    {
     "data": {
      "text/html": [
       "<div>\n",
       "<style scoped>\n",
       "    .dataframe tbody tr th:only-of-type {\n",
       "        vertical-align: middle;\n",
       "    }\n",
       "\n",
       "    .dataframe tbody tr th {\n",
       "        vertical-align: top;\n",
       "    }\n",
       "\n",
       "    .dataframe thead th {\n",
       "        text-align: right;\n",
       "    }\n",
       "</style>\n",
       "<table border=\"1\" class=\"dataframe\">\n",
       "  <thead>\n",
       "    <tr style=\"text-align: right;\">\n",
       "      <th></th>\n",
       "      <th>Median Sale Price</th>\n",
       "    </tr>\n",
       "    <tr>\n",
       "      <th>Date</th>\n",
       "      <th></th>\n",
       "    </tr>\n",
       "  </thead>\n",
       "  <tbody>\n",
       "    <tr>\n",
       "      <th>2012-02-29</th>\n",
       "      <td>NaN</td>\n",
       "    </tr>\n",
       "    <tr>\n",
       "      <th>2012-03-31</th>\n",
       "      <td>0.012017</td>\n",
       "    </tr>\n",
       "    <tr>\n",
       "      <th>2012-04-30</th>\n",
       "      <td>0.040260</td>\n",
       "    </tr>\n",
       "    <tr>\n",
       "      <th>2012-05-31</th>\n",
       "      <td>0.028705</td>\n",
       "    </tr>\n",
       "    <tr>\n",
       "      <th>2012-06-30</th>\n",
       "      <td>-0.009673</td>\n",
       "    </tr>\n",
       "  </tbody>\n",
       "</table>\n",
       "</div>"
      ],
      "text/plain": [
       "            Median Sale Price\n",
       "Date                         \n",
       "2012-02-29                NaN\n",
       "2012-03-31           0.012017\n",
       "2012-04-30           0.040260\n",
       "2012-05-31           0.028705\n",
       "2012-06-30          -0.009673"
      ]
     },
     "execution_count": 21,
     "metadata": {},
     "output_type": "execute_result"
    }
   ],
   "source": [
    "housing_returns = housing_data_df.pct_change()\n",
    "housing_returns.head()"
   ]
  },
  {
   "cell_type": "code",
   "execution_count": 22,
   "id": "simplified-contemporary",
   "metadata": {},
   "outputs": [
    {
     "data": {
      "text/html": [
       "<div>\n",
       "<style scoped>\n",
       "    .dataframe tbody tr th:only-of-type {\n",
       "        vertical-align: middle;\n",
       "    }\n",
       "\n",
       "    .dataframe tbody tr th {\n",
       "        vertical-align: top;\n",
       "    }\n",
       "\n",
       "    .dataframe thead th {\n",
       "        text-align: right;\n",
       "    }\n",
       "</style>\n",
       "<table border=\"1\" class=\"dataframe\">\n",
       "  <thead>\n",
       "    <tr style=\"text-align: right;\">\n",
       "      <th></th>\n",
       "      <th>AMZN</th>\n",
       "      <th>BA</th>\n",
       "      <th>MSFT</th>\n",
       "      <th>BTC</th>\n",
       "      <th>Gold</th>\n",
       "      <th>30 T-Bond</th>\n",
       "      <th>Median Sale Price</th>\n",
       "    </tr>\n",
       "    <tr>\n",
       "      <th>Date</th>\n",
       "      <th></th>\n",
       "      <th></th>\n",
       "      <th></th>\n",
       "      <th></th>\n",
       "      <th></th>\n",
       "      <th></th>\n",
       "      <th></th>\n",
       "    </tr>\n",
       "  </thead>\n",
       "  <tbody>\n",
       "    <tr>\n",
       "      <th>2012-02-29</th>\n",
       "      <td>NaN</td>\n",
       "      <td>NaN</td>\n",
       "      <td>NaN</td>\n",
       "      <td>NaN</td>\n",
       "      <td>NaN</td>\n",
       "      <td>NaN</td>\n",
       "      <td>NaN</td>\n",
       "    </tr>\n",
       "    <tr>\n",
       "      <th>2012-03-31</th>\n",
       "      <td>0.126996</td>\n",
       "      <td>-0.007738</td>\n",
       "      <td>0.016383</td>\n",
       "      <td>NaN</td>\n",
       "      <td>-0.024642</td>\n",
       "      <td>0.087662</td>\n",
       "      <td>0.012017</td>\n",
       "    </tr>\n",
       "    <tr>\n",
       "      <th>2012-04-30</th>\n",
       "      <td>0.145129</td>\n",
       "      <td>0.032674</td>\n",
       "      <td>-0.007440</td>\n",
       "      <td>NaN</td>\n",
       "      <td>-0.004659</td>\n",
       "      <td>-0.068657</td>\n",
       "      <td>0.040260</td>\n",
       "    </tr>\n",
       "    <tr>\n",
       "      <th>2012-05-31</th>\n",
       "      <td>-0.081889</td>\n",
       "      <td>-0.093620</td>\n",
       "      <td>-0.088382</td>\n",
       "      <td>NaN</td>\n",
       "      <td>-0.061386</td>\n",
       "      <td>-0.144231</td>\n",
       "      <td>0.028705</td>\n",
       "    </tr>\n",
       "    <tr>\n",
       "      <th>2012-06-30</th>\n",
       "      <td>0.072519</td>\n",
       "      <td>0.067375</td>\n",
       "      <td>0.047962</td>\n",
       "      <td>NaN</td>\n",
       "      <td>0.025572</td>\n",
       "      <td>0.033708</td>\n",
       "      <td>-0.009673</td>\n",
       "    </tr>\n",
       "  </tbody>\n",
       "</table>\n",
       "</div>"
      ],
      "text/plain": [
       "                AMZN        BA      MSFT  BTC      Gold  30 T-Bond  \\\n",
       "Date                                                                 \n",
       "2012-02-29       NaN       NaN       NaN  NaN       NaN        NaN   \n",
       "2012-03-31  0.126996 -0.007738  0.016383  NaN -0.024642   0.087662   \n",
       "2012-04-30  0.145129  0.032674 -0.007440  NaN -0.004659  -0.068657   \n",
       "2012-05-31 -0.081889 -0.093620 -0.088382  NaN -0.061386  -0.144231   \n",
       "2012-06-30  0.072519  0.067375  0.047962  NaN  0.025572   0.033708   \n",
       "\n",
       "            Median Sale Price  \n",
       "Date                           \n",
       "2012-02-29                NaN  \n",
       "2012-03-31           0.012017  \n",
       "2012-04-30           0.040260  \n",
       "2012-05-31           0.028705  \n",
       "2012-06-30          -0.009673  "
      ]
     },
     "execution_count": 22,
     "metadata": {},
     "output_type": "execute_result"
    }
   ],
   "source": [
    "all_returns = pd.concat([asset_returns, housing_returns], axis=\"columns\", join=\"inner\")\n",
    "all_returns.head()"
   ]
  },
  {
   "cell_type": "code",
   "execution_count": 23,
   "id": "declared-florence",
   "metadata": {},
   "outputs": [],
   "source": [
    "all_returns.to_csv('dashboard/all_returns.csv', index=\"Date\")"
   ]
  },
  {
   "cell_type": "code",
   "execution_count": 24,
   "id": "embedded-accordance",
   "metadata": {},
   "outputs": [
    {
     "data": {
      "text/plain": [
       "<matplotlib.axes._subplots.AxesSubplot at 0x7fcacbad9f10>"
      ]
     },
     "execution_count": 24,
     "metadata": {},
     "output_type": "execute_result"
    },
    {
     "data": {
      "image/png": "[encoded data removed]",
      "text/plain": [
       "<Figure size 432x288 with 1 Axes>"
      ]
     },
     "metadata": {
      "needs_background": "light"
     },
     "output_type": "display_data"
    }
   ],
   "source": [
    "all_returns.plot.line()"
   ]
  },
  {
   "cell_type": "code",
   "execution_count": 25,
   "id": "crude-starter",
   "metadata": {},
   "outputs": [
    {
     "data": {
      "text/plain": [
       "Median Sale Price    0.378814\n",
       "Gold                 0.654730\n",
       "MSFT                 0.923888\n",
       "30 T-Bond            1.215648\n",
       "AMZN                 1.298244\n",
       "BA                   1.571436\n",
       "BTC                  8.375357\n",
       "dtype: float64"
      ]
     },
     "execution_count": 25,
     "metadata": {},
     "output_type": "execute_result"
    }
   ],
   "source": [
    "# Use the `std` function and multiply by the square root of the number of trading days in a year to get annualized volatility\n",
    "volatility = all_returns.std() * np.sqrt(252)\n",
    "volatility.sort_values(inplace=True)\n",
    "volatility"
   ]
  },
  {
   "cell_type": "code",
   "execution_count": 26,
   "id": "weighted-preserve",
   "metadata": {},
   "outputs": [
    {
     "data": {
      "text/html": [
       "<div>\n",
       "<style scoped>\n",
       "    .dataframe tbody tr th:only-of-type {\n",
       "        vertical-align: middle;\n",
       "    }\n",
       "\n",
       "    .dataframe tbody tr th {\n",
       "        vertical-align: top;\n",
       "    }\n",
       "\n",
       "    .dataframe thead th {\n",
       "        text-align: right;\n",
       "    }\n",
       "</style>\n",
       "<table border=\"1\" class=\"dataframe\">\n",
       "  <thead>\n",
       "    <tr style=\"text-align: right;\">\n",
       "      <th></th>\n",
       "      <th>AMZN</th>\n",
       "      <th>BA</th>\n",
       "      <th>MSFT</th>\n",
       "      <th>BTC</th>\n",
       "      <th>Gold</th>\n",
       "      <th>30 T-Bond</th>\n",
       "      <th>Median Sale Price</th>\n",
       "    </tr>\n",
       "  </thead>\n",
       "  <tbody>\n",
       "    <tr>\n",
       "      <th>AMZN</th>\n",
       "      <td>1.000000</td>\n",
       "      <td>0.282400</td>\n",
       "      <td>0.470951</td>\n",
       "      <td>0.131068</td>\n",
       "      <td>0.059120</td>\n",
       "      <td>0.056182</td>\n",
       "      <td>-0.013569</td>\n",
       "    </tr>\n",
       "    <tr>\n",
       "      <th>BA</th>\n",
       "      <td>0.282400</td>\n",
       "      <td>1.000000</td>\n",
       "      <td>0.273241</td>\n",
       "      <td>0.085469</td>\n",
       "      <td>-0.104781</td>\n",
       "      <td>0.217059</td>\n",
       "      <td>0.130730</td>\n",
       "    </tr>\n",
       "    <tr>\n",
       "      <th>MSFT</th>\n",
       "      <td>0.470951</td>\n",
       "      <td>0.273241</td>\n",
       "      <td>1.000000</td>\n",
       "      <td>0.171341</td>\n",
       "      <td>-0.138826</td>\n",
       "      <td>0.239857</td>\n",
       "      <td>0.128542</td>\n",
       "    </tr>\n",
       "    <tr>\n",
       "      <th>BTC</th>\n",
       "      <td>0.131068</td>\n",
       "      <td>0.085469</td>\n",
       "      <td>0.171341</td>\n",
       "      <td>1.000000</td>\n",
       "      <td>-0.098619</td>\n",
       "      <td>0.055994</td>\n",
       "      <td>0.137178</td>\n",
       "    </tr>\n",
       "    <tr>\n",
       "      <th>Gold</th>\n",
       "      <td>0.059120</td>\n",
       "      <td>-0.104781</td>\n",
       "      <td>-0.138826</td>\n",
       "      <td>-0.098619</td>\n",
       "      <td>1.000000</td>\n",
       "      <td>-0.305347</td>\n",
       "      <td>-0.086139</td>\n",
       "    </tr>\n",
       "    <tr>\n",
       "      <th>30 T-Bond</th>\n",
       "      <td>0.056182</td>\n",
       "      <td>0.217059</td>\n",
       "      <td>0.239857</td>\n",
       "      <td>0.055994</td>\n",
       "      <td>-0.305347</td>\n",
       "      <td>1.000000</td>\n",
       "      <td>0.080675</td>\n",
       "    </tr>\n",
       "    <tr>\n",
       "      <th>Median Sale Price</th>\n",
       "      <td>-0.013569</td>\n",
       "      <td>0.130730</td>\n",
       "      <td>0.128542</td>\n",
       "      <td>0.137178</td>\n",
       "      <td>-0.086139</td>\n",
       "      <td>0.080675</td>\n",
       "      <td>1.000000</td>\n",
       "    </tr>\n",
       "  </tbody>\n",
       "</table>\n",
       "</div>"
      ],
      "text/plain": [
       "                       AMZN        BA      MSFT       BTC      Gold  \\\n",
       "AMZN               1.000000  0.282400  0.470951  0.131068  0.059120   \n",
       "BA                 0.282400  1.000000  0.273241  0.085469 -0.104781   \n",
       "MSFT               0.470951  0.273241  1.000000  0.171341 -0.138826   \n",
       "BTC                0.131068  0.085469  0.171341  1.000000 -0.098619   \n",
       "Gold               0.059120 -0.104781 -0.138826 -0.098619  1.000000   \n",
       "30 T-Bond          0.056182  0.217059  0.239857  0.055994 -0.305347   \n",
       "Median Sale Price -0.013569  0.130730  0.128542  0.137178 -0.086139   \n",
       "\n",
       "                   30 T-Bond  Median Sale Price  \n",
       "AMZN                0.056182          -0.013569  \n",
       "BA                  0.217059           0.130730  \n",
       "MSFT                0.239857           0.128542  \n",
       "BTC                 0.055994           0.137178  \n",
       "Gold               -0.305347          -0.086139  \n",
       "30 T-Bond           1.000000           0.080675  \n",
       "Median Sale Price   0.080675           1.000000  "
      ]
     },
     "execution_count": 26,
     "metadata": {},
     "output_type": "execute_result"
    }
   ],
   "source": [
    "# Use the `corr` function to calculate correlations for each stock pair\n",
    "correlation = all_returns.corr()\n",
    "correlation"
   ]
  },
  {
   "cell_type": "code",
   "execution_count": 27,
   "id": "labeled-serve",
   "metadata": {},
   "outputs": [],
   "source": [
    "correlation.to_csv('dashboard/correlation.csv', index=\"Date\")"
   ]
  },
  {
   "cell_type": "code",
   "execution_count": 28,
   "id": "unusual-worse",
   "metadata": {},
   "outputs": [
    {
     "data": {
      "text/plain": [
       "AMZN                 float64\n",
       "BA                   float64\n",
       "MSFT                 float64\n",
       "BTC                  float64\n",
       "Gold                 float64\n",
       "30 T-Bond            float64\n",
       "Median Sale Price    float64\n",
       "dtype: object"
      ]
     },
     "execution_count": 28,
     "metadata": {},
     "output_type": "execute_result"
    }
   ],
   "source": [
    "correlation.dtypes"
   ]
  },
  {
   "cell_type": "code",
   "execution_count": 29,
   "id": "pressing-accreditation",
   "metadata": {},
   "outputs": [
    {
     "data": {
      "image/png": "[encoded data removed]",
      "text/plain": [
       "<Figure size 432x288 with 2 Axes>"
      ]
     },
     "metadata": {
      "needs_background": "light"
     },
     "output_type": "display_data"
    }
   ],
   "source": [
    "# Create a heatmap from the correlation values\n",
    "corr2_plot = sns.heatmap(correlation, vmin=-1, vmax=1, annot=True)"
   ]
  },
  {
   "cell_type": "code",
   "execution_count": 30,
   "id": "external-vegetation",
   "metadata": {},
   "outputs": [
    {
     "data": {
      "text/html": [
       "<div>\n",
       "<style scoped>\n",
       "    .dataframe tbody tr th:only-of-type {\n",
       "        vertical-align: middle;\n",
       "    }\n",
       "\n",
       "    .dataframe tbody tr th {\n",
       "        vertical-align: top;\n",
       "    }\n",
       "\n",
       "    .dataframe thead th {\n",
       "        text-align: right;\n",
       "    }\n",
       "</style>\n",
       "<table border=\"1\" class=\"dataframe\">\n",
       "  <thead>\n",
       "    <tr style=\"text-align: right;\">\n",
       "      <th></th>\n",
       "      <th>AMZN</th>\n",
       "      <th>BA</th>\n",
       "      <th>MSFT</th>\n",
       "      <th>BTC</th>\n",
       "      <th>Gold</th>\n",
       "      <th>30 T-Bond</th>\n",
       "      <th>Median Sale Price</th>\n",
       "    </tr>\n",
       "  </thead>\n",
       "  <tbody>\n",
       "    <tr>\n",
       "      <th>AMZN</th>\n",
       "      <td>1.000000</td>\n",
       "      <td>0.590124</td>\n",
       "      <td>0.982338</td>\n",
       "      <td>0.848446</td>\n",
       "      <td>0.482097</td>\n",
       "      <td>-0.699015</td>\n",
       "      <td>0.918371</td>\n",
       "    </tr>\n",
       "    <tr>\n",
       "      <th>BA</th>\n",
       "      <td>0.590124</td>\n",
       "      <td>1.000000</td>\n",
       "      <td>0.542075</td>\n",
       "      <td>0.499996</td>\n",
       "      <td>-0.137401</td>\n",
       "      <td>-0.116423</td>\n",
       "      <td>0.744053</td>\n",
       "    </tr>\n",
       "    <tr>\n",
       "      <th>MSFT</th>\n",
       "      <td>0.982338</td>\n",
       "      <td>0.542075</td>\n",
       "      <td>1.000000</td>\n",
       "      <td>0.850928</td>\n",
       "      <td>0.522869</td>\n",
       "      <td>-0.751674</td>\n",
       "      <td>0.889495</td>\n",
       "    </tr>\n",
       "    <tr>\n",
       "      <th>BTC</th>\n",
       "      <td>0.848446</td>\n",
       "      <td>0.499996</td>\n",
       "      <td>0.850928</td>\n",
       "      <td>1.000000</td>\n",
       "      <td>0.479965</td>\n",
       "      <td>-0.565386</td>\n",
       "      <td>0.770430</td>\n",
       "    </tr>\n",
       "    <tr>\n",
       "      <th>Gold</th>\n",
       "      <td>0.482097</td>\n",
       "      <td>-0.137401</td>\n",
       "      <td>0.522869</td>\n",
       "      <td>0.479965</td>\n",
       "      <td>1.000000</td>\n",
       "      <td>-0.607293</td>\n",
       "      <td>0.196240</td>\n",
       "    </tr>\n",
       "    <tr>\n",
       "      <th>30 T-Bond</th>\n",
       "      <td>-0.699015</td>\n",
       "      <td>-0.116423</td>\n",
       "      <td>-0.751674</td>\n",
       "      <td>-0.565386</td>\n",
       "      <td>-0.607293</td>\n",
       "      <td>1.000000</td>\n",
       "      <td>-0.599747</td>\n",
       "    </tr>\n",
       "    <tr>\n",
       "      <th>Median Sale Price</th>\n",
       "      <td>0.918371</td>\n",
       "      <td>0.744053</td>\n",
       "      <td>0.889495</td>\n",
       "      <td>0.770430</td>\n",
       "      <td>0.196240</td>\n",
       "      <td>-0.599747</td>\n",
       "      <td>1.000000</td>\n",
       "    </tr>\n",
       "  </tbody>\n",
       "</table>\n",
       "</div>"
      ],
      "text/plain": [
       "                       AMZN        BA      MSFT       BTC      Gold  \\\n",
       "AMZN               1.000000  0.590124  0.982338  0.848446  0.482097   \n",
       "BA                 0.590124  1.000000  0.542075  0.499996 -0.137401   \n",
       "MSFT               0.982338  0.542075  1.000000  0.850928  0.522869   \n",
       "BTC                0.848446  0.499996  0.850928  1.000000  0.479965   \n",
       "Gold               0.482097 -0.137401  0.522869  0.479965  1.000000   \n",
       "30 T-Bond         -0.699015 -0.116423 -0.751674 -0.565386 -0.607293   \n",
       "Median Sale Price  0.918371  0.744053  0.889495  0.770430  0.196240   \n",
       "\n",
       "                   30 T-Bond  Median Sale Price  \n",
       "AMZN               -0.699015           0.918371  \n",
       "BA                 -0.116423           0.744053  \n",
       "MSFT               -0.751674           0.889495  \n",
       "BTC                -0.565386           0.770430  \n",
       "Gold               -0.607293           0.196240  \n",
       "30 T-Bond           1.000000          -0.599747  \n",
       "Median Sale Price  -0.599747           1.000000  "
      ]
     },
     "execution_count": 30,
     "metadata": {},
     "output_type": "execute_result"
    }
   ],
   "source": [
    "correlation_2 = combined_df_asset.corr()\n",
    "correlation_2"
   ]
  },
  {
   "cell_type": "code",
   "execution_count": 31,
   "id": "sacred-strategy",
   "metadata": {},
   "outputs": [],
   "source": [
    "correlation_2.to_csv('dashboard/correlation_2.csv')"
   ]
  },
  {
   "cell_type": "code",
   "execution_count": 32,
   "id": "revolutionary-subcommittee",
   "metadata": {},
   "outputs": [
    {
     "data": {
      "image/png": "[encoded data removed]",
      "text/plain": [
       "<Figure size 432x288 with 2 Axes>"
      ]
     },
     "metadata": {
      "needs_background": "light"
     },
     "output_type": "display_data"
    }
   ],
   "source": [
    "corr3_plot = sns.heatmap(correlation_2, vmin=-1, vmax=1, annot=True)"
   ]
  },
  {
   "cell_type": "code",
   "execution_count": 33,
   "id": "changing-vision",
   "metadata": {},
   "outputs": [
    {
     "data": {
      "text/plain": [
       "<matplotlib.axes._subplots.AxesSubplot at 0x7fcaa82a0f50>"
      ]
     },
     "execution_count": 33,
     "metadata": {},
     "output_type": "execute_result"
    },
    {
     "data": {
      "image/png": "[encoded data removed]",
      "text/plain": [
       "<Figure size 432x288 with 1 Axes>"
      ]
     },
     "metadata": {
      "needs_background": "light"
     },
     "output_type": "display_data"
    }
   ],
   "source": [
    "combined_df_asset.plot()"
   ]
  },
  {
   "cell_type": "code",
   "execution_count": 34,
   "id": "hawaiian-forum",
   "metadata": {},
   "outputs": [
    {
     "data": {
      "text/plain": [
       "<matplotlib.axes._subplots.AxesSubplot at 0x7fcab0a235d0>"
      ]
     },
     "execution_count": 34,
     "metadata": {},
     "output_type": "execute_result"
    },
    {
     "data": {
      "image/png": "[encoded data removed]",
      "text/plain": [
       "<Figure size 432x288 with 1 Axes>"
      ]
     },
     "metadata": {
      "needs_background": "light"
     },
     "output_type": "display_data"
    }
   ],
   "source": [
    "combined_df_asset.plot(kind='scatter', x='AMZN', y='Median Sale Price')"
   ]
  },
  {
   "cell_type": "code",
   "execution_count": 35,
   "id": "opening-newspaper",
   "metadata": {},
   "outputs": [
    {
     "data": {
      "text/plain": [
       "<matplotlib.axes._subplots.AxesSubplot at 0x7fcab0a64f90>"
      ]
     },
     "execution_count": 35,
     "metadata": {},
     "output_type": "execute_result"
    },
    {
     "data": {
      "image/png": "[encoded data removed]",
      "text/plain": [
       "<Figure size 432x288 with 1 Axes>"
      ]
     },
     "metadata": {
      "needs_background": "light"
     },
     "output_type": "display_data"
    }
   ],
   "source": [
    "combined_df_asset.plot(kind='scatter', x='MSFT', y='Median Sale Price')"
   ]
  },
  {
   "cell_type": "code",
   "execution_count": 36,
   "id": "chemical-novelty",
   "metadata": {},
   "outputs": [
    {
     "data": {
      "text/plain": [
       "<matplotlib.axes._subplots.AxesSubplot at 0x7fcacbfaf5d0>"
      ]
     },
     "execution_count": 36,
     "metadata": {},
     "output_type": "execute_result"
    },
    {
     "data": {
      "image/png": "[encoded data removed]",
      "text/plain": [
       "<Figure size 432x288 with 1 Axes>"
      ]
     },
     "metadata": {
      "needs_background": "light"
     },
     "output_type": "display_data"
    }
   ],
   "source": [
    "combined_df_asset.plot(kind='scatter', x='BTC', y='Median Sale Price')"
   ]
  },
  {
   "cell_type": "code",
   "execution_count": 37,
   "id": "continued-lying",
   "metadata": {},
   "outputs": [
    {
     "data": {
      "text/plain": [
       "<matplotlib.axes._subplots.AxesSubplot at 0x7fcaa830e610>"
      ]
     },
     "execution_count": 37,
     "metadata": {},
     "output_type": "execute_result"
    },
    {
     "data": {
      "image/png": "[encoded data removed]",
      "text/plain": [
       "<Figure size 432x288 with 1 Axes>"
      ]
     },
     "metadata": {
      "needs_background": "light"
     },
     "output_type": "display_data"
    }
   ],
   "source": [
    "combined_df_asset.plot(kind='scatter', x='BA', y='Median Sale Price')"
   ]
  },
  {
   "cell_type": "code",
   "execution_count": 38,
   "id": "parliamentary-zealand",
   "metadata": {},
   "outputs": [
    {
     "data": {
      "text/plain": [
       "<matplotlib.axes._subplots.AxesSubplot at 0x7fcaa8379250>"
      ]
     },
     "execution_count": 38,
     "metadata": {},
     "output_type": "execute_result"
    },
    {
     "data": {
      "image/png": "[encoded data removed]",
      "text/plain": [
       "<Figure size 432x288 with 1 Axes>"
      ]
     },
     "metadata": {
      "needs_background": "light"
     },
     "output_type": "display_data"
    }
   ],
   "source": [
    "combined_df_asset.plot(kind='scatter', x='Gold', y='Median Sale Price')"
   ]
  },
  {
   "cell_type": "code",
   "execution_count": 39,
   "id": "pharmaceutical-graph",
   "metadata": {},
   "outputs": [
    {
     "data": {
      "text/plain": [
       "<matplotlib.axes._subplots.AxesSubplot at 0x7fcab0d2fb10>"
      ]
     },
     "execution_count": 39,
     "metadata": {},
     "output_type": "execute_result"
    },
    {
     "data": {
      "image/png": "[encoded data removed]",
      "text/plain": [
       "<Figure size 432x288 with 1 Axes>"
      ]
     },
     "metadata": {
      "needs_background": "light"
     },
     "output_type": "display_data"
    }
   ],
   "source": [
    "combined_df_asset.plot(kind='scatter', x='30 T-Bond', y='Median Sale Price')"
   ]
  },
  {
   "cell_type": "code",
   "execution_count": null,
   "id": "wireless-police",
   "metadata": {},
   "outputs": [],
   "source": []
  }
 ],
 "metadata": {
  "kernelspec": {
   "display_name": "Python [conda env:pyvizenv] *",
   "language": "python",
   "name": "conda-env-pyvizenv-py"
  },
  "language_info": {
   "codemirror_mode": {
    "name": "ipython",
    "version": 3
   },
   "file_extension": ".py",
   "mimetype": "text/x-python",
   "name": "python",
   "nbconvert_exporter": "python",
   "pygments_lexer": "ipython3",
   "version": "3.7.9"
  }
 },
 "nbformat": 4,
 "nbformat_minor": 5
}
