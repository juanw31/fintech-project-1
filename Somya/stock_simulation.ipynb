{
 "cells": [
  {
   "cell_type": "markdown",
   "id": "finnish-vision",
   "metadata": {},
   "source": [
    "# Monte Carlo Simulation\n",
    "\n",
    "* Perform a Monte Carlo Simulation on the future performance of AMZN stock price to predict the future price of Seattle housing price by using linear regression\n",
    "\n",
    "* 5-year projection with 500 iterations based on 5 years of historical AMZN stock data\n",
    "\n",
    "### Import libraries and dependencies"
   ]
  },
  {
   "cell_type": "code",
   "execution_count": 1,
   "id": "tired-reliance",
   "metadata": {},
   "outputs": [],
   "source": [
    "import os\n",
    "import pandas as pd\n",
    "from pathlib import Path\n",
    "import alpaca_trade_api as tradeapi\n",
    "from MCForecastTools import MCSimulation\n",
    "%matplotlib inline"
   ]
  },
  {
   "cell_type": "markdown",
   "id": "eligible-venture",
   "metadata": {},
   "source": [
    "**Load .env enviroment variables**\n",
    "\n",
    "*The environment variables include the API and secret keys required for calling the Alpaca trade api.*"
   ]
  },
  {
   "cell_type": "code",
   "execution_count": 2,
   "id": "painted-suicide",
   "metadata": {},
   "outputs": [
    {
     "data": {
      "text/plain": [
       "True"
      ]
     },
     "execution_count": 2,
     "metadata": {},
     "output_type": "execute_result"
    }
   ],
   "source": [
    "from dotenv import load_dotenv\n",
    "load_dotenv()"
   ]
  },
  {
   "cell_type": "markdown",
   "id": "downtown-niagara",
   "metadata": {},
   "source": [
    "**Set Alpaca API key and secret**\n",
    "\n",
    "*Set the alpaca_api_key and alpaca_secret_key from the environment variables using os.getenv function.*"
   ]
  },
  {
   "cell_type": "code",
   "execution_count": 3,
   "id": "operating-musical",
   "metadata": {},
   "outputs": [],
   "source": [
    "alpaca_api_key = os.getenv(\"ALPACA_API_KEY\")\n",
    "alpaca_secret_key = os.getenv(\"ALPACA_SECRET_KEY\")\n",
    "\n",
    "api = tradeapi.REST(\n",
    "    alpaca_api_key,\n",
    "    alpaca_secret_key,\n",
    "    api_version = \"v2\"\n",
    ")"
   ]
  },
  {
   "cell_type": "code",
   "execution_count": 4,
   "id": "bigger-killer",
   "metadata": {},
   "outputs": [],
   "source": [
    "def days_to_trading_days(days):\n",
    "    return round(days * 252 / 365)\n",
    "\n",
    "def trading_days_to_days(trading_days):\n",
    "    return round(trading_days * 365 / 252)"
   ]
  },
  {
   "cell_type": "code",
   "execution_count": 5,
   "id": "directed-conspiracy",
   "metadata": {},
   "outputs": [],
   "source": [
    "def get_barset_amzn(start_date, end_date):\n",
    "    \"\"\"\n",
    "    Gets alpaca barset for AMZN with 1D timeframe for the given dates\n",
    "    and returns the data in a pandas dataframe.\n",
    "    \n",
    "    If the num of days is greater than 1000, it makes more than one api\n",
    "    call and combines the responses in a single dataframe.\n",
    "    \"\"\"\n",
    "    # Initialize a variable `df` to store the final dataframe.\n",
    "    df = None;\n",
    "    \n",
    "    # Calculate the num of days in the given start and end dates\n",
    "    days = (end_date - start_date).days\n",
    "    \n",
    "    # Convert num of days into num of trading days\n",
    "    trading_days = days_to_trading_days(days)\n",
    "    \n",
    "    # Calculate the num of calls to make\n",
    "    # e.g. for 1500 trading days we need to make at least 2 api calls\n",
    "    # trading_days = 1500, round(trading_days/1000) = 1, num_api_calls = 1 + 1 = 2\n",
    "    num_api_calls = 1 + round(trading_days/1000)\n",
    "    \n",
    "    # 252 trading days = 365 normal days\n",
    "    # 1000 trading days = 1000 * 365 / 252 normal days\n",
    "    days_per_1k_trading_days = trading_days_to_days(1000)\n",
    "    \n",
    "    start = start_date \n",
    "    for i in range(num_api_calls):\n",
    "        end = start + pd.DateOffset(days_per_1k_trading_days)\n",
    "        print(str(start)+\" to \"+str(end))\n",
    "        tmp_df = api.get_barset(\n",
    "            \"AMZN\",\n",
    "            \"1D\",\n",
    "            start = start.isoformat(),\n",
    "            end = end.isoformat() ,\n",
    "            limit = 1000\n",
    "        ).df\n",
    "        start = end       \n",
    "        if df is None:\n",
    "            df = tmp_df\n",
    "        else:\n",
    "            df = pd.concat([df, tmp_df])\n",
    "                   \n",
    "    return df"
   ]
  },
  {
   "cell_type": "code",
   "execution_count": 6,
   "id": "divided-garden",
   "metadata": {},
   "outputs": [
    {
     "name": "stdout",
     "output_type": "stream",
     "text": [
      "2016-01-01 00:00:00-05:00 to 2019-12-19 00:00:00-05:00\n",
      "2019-12-19 00:00:00-05:00 to 2023-12-06 00:00:00-05:00\n"
     ]
    }
   ],
   "source": [
    "start_date = pd.Timestamp(\"2016-01-01\", tz=\"America/New_York\")\n",
    "end_date = pd.Timestamp(\"2021-04-08\", tz=\"America/New_York\")\n",
    "df = get_barset_amzn(start_date, end_date)"
   ]
  },
  {
   "cell_type": "code",
   "execution_count": 7,
   "id": "cheap-navigator",
   "metadata": {},
   "outputs": [
    {
     "data": {
      "text/html": [
       "<div>\n",
       "<style scoped>\n",
       "    .dataframe tbody tr th:only-of-type {\n",
       "        vertical-align: middle;\n",
       "    }\n",
       "\n",
       "    .dataframe tbody tr th {\n",
       "        vertical-align: top;\n",
       "    }\n",
       "\n",
       "    .dataframe thead tr th {\n",
       "        text-align: left;\n",
       "    }\n",
       "\n",
       "    .dataframe thead tr:last-of-type th {\n",
       "        text-align: right;\n",
       "    }\n",
       "</style>\n",
       "<table border=\"1\" class=\"dataframe\">\n",
       "  <thead>\n",
       "    <tr>\n",
       "      <th></th>\n",
       "      <th colspan=\"5\" halign=\"left\">AMZN</th>\n",
       "    </tr>\n",
       "    <tr>\n",
       "      <th></th>\n",
       "      <th>open</th>\n",
       "      <th>high</th>\n",
       "      <th>low</th>\n",
       "      <th>close</th>\n",
       "      <th>volume</th>\n",
       "    </tr>\n",
       "    <tr>\n",
       "      <th>time</th>\n",
       "      <th></th>\n",
       "      <th></th>\n",
       "      <th></th>\n",
       "      <th></th>\n",
       "      <th></th>\n",
       "    </tr>\n",
       "  </thead>\n",
       "  <tbody>\n",
       "    <tr>\n",
       "      <th>2016-01-04 00:00:00-05:00</th>\n",
       "      <td>656.29</td>\n",
       "      <td>657.715</td>\n",
       "      <td>627.51</td>\n",
       "      <td>636.73</td>\n",
       "      <td>6683946</td>\n",
       "    </tr>\n",
       "    <tr>\n",
       "      <th>2016-01-05 00:00:00-05:00</th>\n",
       "      <td>646.86</td>\n",
       "      <td>646.910</td>\n",
       "      <td>627.65</td>\n",
       "      <td>633.79</td>\n",
       "      <td>4288182</td>\n",
       "    </tr>\n",
       "    <tr>\n",
       "      <th>2016-01-06 00:00:00-05:00</th>\n",
       "      <td>622.00</td>\n",
       "      <td>639.790</td>\n",
       "      <td>620.31</td>\n",
       "      <td>632.81</td>\n",
       "      <td>3865144</td>\n",
       "    </tr>\n",
       "    <tr>\n",
       "      <th>2016-01-07 00:00:00-05:00</th>\n",
       "      <td>622.38</td>\n",
       "      <td>630.000</td>\n",
       "      <td>605.21</td>\n",
       "      <td>607.84</td>\n",
       "      <td>5235612</td>\n",
       "    </tr>\n",
       "    <tr>\n",
       "      <th>2016-01-08 00:00:00-05:00</th>\n",
       "      <td>618.86</td>\n",
       "      <td>624.140</td>\n",
       "      <td>606.00</td>\n",
       "      <td>607.23</td>\n",
       "      <td>4005059</td>\n",
       "    </tr>\n",
       "    <tr>\n",
       "      <th>...</th>\n",
       "      <td>...</td>\n",
       "      <td>...</td>\n",
       "      <td>...</td>\n",
       "      <td>...</td>\n",
       "      <td>...</td>\n",
       "    </tr>\n",
       "    <tr>\n",
       "      <th>2021-04-12 00:00:00-04:00</th>\n",
       "      <td>3358.43</td>\n",
       "      <td>3395.040</td>\n",
       "      <td>3351.15</td>\n",
       "      <td>3379.39</td>\n",
       "      <td>2730363</td>\n",
       "    </tr>\n",
       "    <tr>\n",
       "      <th>2021-04-13 00:00:00-04:00</th>\n",
       "      <td>3402.00</td>\n",
       "      <td>3432.000</td>\n",
       "      <td>3395.63</td>\n",
       "      <td>3400.00</td>\n",
       "      <td>2966542</td>\n",
       "    </tr>\n",
       "    <tr>\n",
       "      <th>2021-04-14 00:00:00-04:00</th>\n",
       "      <td>3403.63</td>\n",
       "      <td>3404.130</td>\n",
       "      <td>3326.00</td>\n",
       "      <td>3334.89</td>\n",
       "      <td>2606119</td>\n",
       "    </tr>\n",
       "    <tr>\n",
       "      <th>2021-04-15 00:00:00-04:00</th>\n",
       "      <td>3371.00</td>\n",
       "      <td>3397.000</td>\n",
       "      <td>3352.00</td>\n",
       "      <td>3378.89</td>\n",
       "      <td>2645485</td>\n",
       "    </tr>\n",
       "    <tr>\n",
       "      <th>2021-04-16 00:00:00-04:00</th>\n",
       "      <td>3381.63</td>\n",
       "      <td>3406.800</td>\n",
       "      <td>3355.59</td>\n",
       "      <td>3399.21</td>\n",
       "      <td>2726642</td>\n",
       "    </tr>\n",
       "  </tbody>\n",
       "</table>\n",
       "<p>1332 rows × 5 columns</p>\n",
       "</div>"
      ],
      "text/plain": [
       "                              AMZN                                     \n",
       "                              open      high      low    close   volume\n",
       "time                                                                   \n",
       "2016-01-04 00:00:00-05:00   656.29   657.715   627.51   636.73  6683946\n",
       "2016-01-05 00:00:00-05:00   646.86   646.910   627.65   633.79  4288182\n",
       "2016-01-06 00:00:00-05:00   622.00   639.790   620.31   632.81  3865144\n",
       "2016-01-07 00:00:00-05:00   622.38   630.000   605.21   607.84  5235612\n",
       "2016-01-08 00:00:00-05:00   618.86   624.140   606.00   607.23  4005059\n",
       "...                            ...       ...      ...      ...      ...\n",
       "2021-04-12 00:00:00-04:00  3358.43  3395.040  3351.15  3379.39  2730363\n",
       "2021-04-13 00:00:00-04:00  3402.00  3432.000  3395.63  3400.00  2966542\n",
       "2021-04-14 00:00:00-04:00  3403.63  3404.130  3326.00  3334.89  2606119\n",
       "2021-04-15 00:00:00-04:00  3371.00  3397.000  3352.00  3378.89  2645485\n",
       "2021-04-16 00:00:00-04:00  3381.63  3406.800  3355.59  3399.21  2726642\n",
       "\n",
       "[1332 rows x 5 columns]"
      ]
     },
     "execution_count": 7,
     "metadata": {},
     "output_type": "execute_result"
    }
   ],
   "source": [
    "df"
   ]
  },
  {
   "cell_type": "markdown",
   "id": "juvenile-question",
   "metadata": {},
   "source": [
    "*Configure a Monte Carlo simulation to forecast five years cumulative returns*"
   ]
  },
  {
   "cell_type": "code",
   "execution_count": 8,
   "id": "religious-toronto",
   "metadata": {},
   "outputs": [],
   "source": [
    "MC_AMZN = MCSimulation(\n",
    "    portfolio_data = df,\n",
    "    weights = [1],\n",
    "    num_simulation = 500,\n",
    "    num_trading_days = 252*5\n",
    ")"
   ]
  },
  {
   "cell_type": "markdown",
   "id": "useful-mission",
   "metadata": {},
   "source": [
    "*Printing the simulation input data*"
   ]
  },
  {
   "cell_type": "code",
   "execution_count": 9,
   "id": "signal-queens",
   "metadata": {},
   "outputs": [
    {
     "data": {
      "text/html": [
       "<div>\n",
       "<style scoped>\n",
       "    .dataframe tbody tr th:only-of-type {\n",
       "        vertical-align: middle;\n",
       "    }\n",
       "\n",
       "    .dataframe tbody tr th {\n",
       "        vertical-align: top;\n",
       "    }\n",
       "\n",
       "    .dataframe thead tr th {\n",
       "        text-align: left;\n",
       "    }\n",
       "\n",
       "    .dataframe thead tr:last-of-type th {\n",
       "        text-align: right;\n",
       "    }\n",
       "</style>\n",
       "<table border=\"1\" class=\"dataframe\">\n",
       "  <thead>\n",
       "    <tr>\n",
       "      <th></th>\n",
       "      <th colspan=\"6\" halign=\"left\">AMZN</th>\n",
       "    </tr>\n",
       "    <tr>\n",
       "      <th></th>\n",
       "      <th>open</th>\n",
       "      <th>high</th>\n",
       "      <th>low</th>\n",
       "      <th>close</th>\n",
       "      <th>volume</th>\n",
       "      <th>daily_return</th>\n",
       "    </tr>\n",
       "    <tr>\n",
       "      <th>time</th>\n",
       "      <th></th>\n",
       "      <th></th>\n",
       "      <th></th>\n",
       "      <th></th>\n",
       "      <th></th>\n",
       "      <th></th>\n",
       "    </tr>\n",
       "  </thead>\n",
       "  <tbody>\n",
       "    <tr>\n",
       "      <th>2016-01-04 00:00:00-05:00</th>\n",
       "      <td>656.29</td>\n",
       "      <td>657.715</td>\n",
       "      <td>627.51</td>\n",
       "      <td>636.73</td>\n",
       "      <td>6683946</td>\n",
       "      <td>NaN</td>\n",
       "    </tr>\n",
       "    <tr>\n",
       "      <th>2016-01-05 00:00:00-05:00</th>\n",
       "      <td>646.86</td>\n",
       "      <td>646.910</td>\n",
       "      <td>627.65</td>\n",
       "      <td>633.79</td>\n",
       "      <td>4288182</td>\n",
       "      <td>-0.004617</td>\n",
       "    </tr>\n",
       "    <tr>\n",
       "      <th>2016-01-06 00:00:00-05:00</th>\n",
       "      <td>622.00</td>\n",
       "      <td>639.790</td>\n",
       "      <td>620.31</td>\n",
       "      <td>632.81</td>\n",
       "      <td>3865144</td>\n",
       "      <td>-0.001546</td>\n",
       "    </tr>\n",
       "    <tr>\n",
       "      <th>2016-01-07 00:00:00-05:00</th>\n",
       "      <td>622.38</td>\n",
       "      <td>630.000</td>\n",
       "      <td>605.21</td>\n",
       "      <td>607.84</td>\n",
       "      <td>5235612</td>\n",
       "      <td>-0.039459</td>\n",
       "    </tr>\n",
       "    <tr>\n",
       "      <th>2016-01-08 00:00:00-05:00</th>\n",
       "      <td>618.86</td>\n",
       "      <td>624.140</td>\n",
       "      <td>606.00</td>\n",
       "      <td>607.23</td>\n",
       "      <td>4005059</td>\n",
       "      <td>-0.001004</td>\n",
       "    </tr>\n",
       "    <tr>\n",
       "      <th>...</th>\n",
       "      <td>...</td>\n",
       "      <td>...</td>\n",
       "      <td>...</td>\n",
       "      <td>...</td>\n",
       "      <td>...</td>\n",
       "      <td>...</td>\n",
       "    </tr>\n",
       "    <tr>\n",
       "      <th>2021-04-12 00:00:00-04:00</th>\n",
       "      <td>3358.43</td>\n",
       "      <td>3395.040</td>\n",
       "      <td>3351.15</td>\n",
       "      <td>3379.39</td>\n",
       "      <td>2730363</td>\n",
       "      <td>0.002165</td>\n",
       "    </tr>\n",
       "    <tr>\n",
       "      <th>2021-04-13 00:00:00-04:00</th>\n",
       "      <td>3402.00</td>\n",
       "      <td>3432.000</td>\n",
       "      <td>3395.63</td>\n",
       "      <td>3400.00</td>\n",
       "      <td>2966542</td>\n",
       "      <td>0.006099</td>\n",
       "    </tr>\n",
       "    <tr>\n",
       "      <th>2021-04-14 00:00:00-04:00</th>\n",
       "      <td>3403.63</td>\n",
       "      <td>3404.130</td>\n",
       "      <td>3326.00</td>\n",
       "      <td>3334.89</td>\n",
       "      <td>2606119</td>\n",
       "      <td>-0.019150</td>\n",
       "    </tr>\n",
       "    <tr>\n",
       "      <th>2021-04-15 00:00:00-04:00</th>\n",
       "      <td>3371.00</td>\n",
       "      <td>3397.000</td>\n",
       "      <td>3352.00</td>\n",
       "      <td>3378.89</td>\n",
       "      <td>2645485</td>\n",
       "      <td>0.013194</td>\n",
       "    </tr>\n",
       "    <tr>\n",
       "      <th>2021-04-16 00:00:00-04:00</th>\n",
       "      <td>3381.63</td>\n",
       "      <td>3406.800</td>\n",
       "      <td>3355.59</td>\n",
       "      <td>3399.21</td>\n",
       "      <td>2726642</td>\n",
       "      <td>0.006014</td>\n",
       "    </tr>\n",
       "  </tbody>\n",
       "</table>\n",
       "<p>1334 rows × 6 columns</p>\n",
       "</div>"
      ],
      "text/plain": [
       "                              AMZN                                       \\\n",
       "                              open      high      low    close   volume   \n",
       "time                                                                      \n",
       "2016-01-04 00:00:00-05:00   656.29   657.715   627.51   636.73  6683946   \n",
       "2016-01-05 00:00:00-05:00   646.86   646.910   627.65   633.79  4288182   \n",
       "2016-01-06 00:00:00-05:00   622.00   639.790   620.31   632.81  3865144   \n",
       "2016-01-07 00:00:00-05:00   622.38   630.000   605.21   607.84  5235612   \n",
       "2016-01-08 00:00:00-05:00   618.86   624.140   606.00   607.23  4005059   \n",
       "...                            ...       ...      ...      ...      ...   \n",
       "2021-04-12 00:00:00-04:00  3358.43  3395.040  3351.15  3379.39  2730363   \n",
       "2021-04-13 00:00:00-04:00  3402.00  3432.000  3395.63  3400.00  2966542   \n",
       "2021-04-14 00:00:00-04:00  3403.63  3404.130  3326.00  3334.89  2606119   \n",
       "2021-04-15 00:00:00-04:00  3371.00  3397.000  3352.00  3378.89  2645485   \n",
       "2021-04-16 00:00:00-04:00  3381.63  3406.800  3355.59  3399.21  2726642   \n",
       "\n",
       "                                        \n",
       "                          daily_return  \n",
       "time                                    \n",
       "2016-01-04 00:00:00-05:00          NaN  \n",
       "2016-01-05 00:00:00-05:00    -0.004617  \n",
       "2016-01-06 00:00:00-05:00    -0.001546  \n",
       "2016-01-07 00:00:00-05:00    -0.039459  \n",
       "2016-01-08 00:00:00-05:00    -0.001004  \n",
       "...                                ...  \n",
       "2021-04-12 00:00:00-04:00     0.002165  \n",
       "2021-04-13 00:00:00-04:00     0.006099  \n",
       "2021-04-14 00:00:00-04:00    -0.019150  \n",
       "2021-04-15 00:00:00-04:00     0.013194  \n",
       "2021-04-16 00:00:00-04:00     0.006014  \n",
       "\n",
       "[1334 rows x 6 columns]"
      ]
     },
     "execution_count": 9,
     "metadata": {},
     "output_type": "execute_result"
    }
   ],
   "source": [
    "MC_AMZN.portfolio_data"
   ]
  },
  {
   "cell_type": "markdown",
   "id": "placed-norfolk",
   "metadata": {},
   "source": [
    "*Run Monte Carlo simulations to forecast five years daily returns*"
   ]
  },
  {
   "cell_type": "code",
   "execution_count": 10,
   "id": "structural-booking",
   "metadata": {},
   "outputs": [
    {
     "name": "stdout",
     "output_type": "stream",
     "text": [
      "Running Monte Carlo simulation number 0.\n",
      "Running Monte Carlo simulation number 10.\n",
      "Running Monte Carlo simulation number 20.\n",
      "Running Monte Carlo simulation number 30.\n",
      "Running Monte Carlo simulation number 40.\n",
      "Running Monte Carlo simulation number 50.\n",
      "Running Monte Carlo simulation number 60.\n",
      "Running Monte Carlo simulation number 70.\n",
      "Running Monte Carlo simulation number 80.\n",
      "Running Monte Carlo simulation number 90.\n",
      "Running Monte Carlo simulation number 100.\n",
      "Running Monte Carlo simulation number 110.\n",
      "Running Monte Carlo simulation number 120.\n",
      "Running Monte Carlo simulation number 130.\n",
      "Running Monte Carlo simulation number 140.\n",
      "Running Monte Carlo simulation number 150.\n",
      "Running Monte Carlo simulation number 160.\n",
      "Running Monte Carlo simulation number 170.\n",
      "Running Monte Carlo simulation number 180.\n",
      "Running Monte Carlo simulation number 190.\n",
      "Running Monte Carlo simulation number 200.\n",
      "Running Monte Carlo simulation number 210.\n",
      "Running Monte Carlo simulation number 220.\n",
      "Running Monte Carlo simulation number 230.\n",
      "Running Monte Carlo simulation number 240.\n",
      "Running Monte Carlo simulation number 250.\n",
      "Running Monte Carlo simulation number 260.\n",
      "Running Monte Carlo simulation number 270.\n",
      "Running Monte Carlo simulation number 280.\n",
      "Running Monte Carlo simulation number 290.\n",
      "Running Monte Carlo simulation number 300.\n",
      "Running Monte Carlo simulation number 310.\n",
      "Running Monte Carlo simulation number 320.\n",
      "Running Monte Carlo simulation number 330.\n",
      "Running Monte Carlo simulation number 340.\n",
      "Running Monte Carlo simulation number 350.\n",
      "Running Monte Carlo simulation number 360.\n",
      "Running Monte Carlo simulation number 370.\n",
      "Running Monte Carlo simulation number 380.\n",
      "Running Monte Carlo simulation number 390.\n",
      "Running Monte Carlo simulation number 400.\n",
      "Running Monte Carlo simulation number 410.\n",
      "Running Monte Carlo simulation number 420.\n",
      "Running Monte Carlo simulation number 430.\n",
      "Running Monte Carlo simulation number 440.\n",
      "Running Monte Carlo simulation number 450.\n",
      "Running Monte Carlo simulation number 460.\n",
      "Running Monte Carlo simulation number 470.\n",
      "Running Monte Carlo simulation number 480.\n",
      "Running Monte Carlo simulation number 490.\n"
     ]
    },
    {
     "data": {
      "text/html": [
       "<div>\n",
       "<style scoped>\n",
       "    .dataframe tbody tr th:only-of-type {\n",
       "        vertical-align: middle;\n",
       "    }\n",
       "\n",
       "    .dataframe tbody tr th {\n",
       "        vertical-align: top;\n",
       "    }\n",
       "\n",
       "    .dataframe thead th {\n",
       "        text-align: right;\n",
       "    }\n",
       "</style>\n",
       "<table border=\"1\" class=\"dataframe\">\n",
       "  <thead>\n",
       "    <tr style=\"text-align: right;\">\n",
       "      <th></th>\n",
       "      <th>0</th>\n",
       "      <th>1</th>\n",
       "      <th>2</th>\n",
       "      <th>3</th>\n",
       "      <th>4</th>\n",
       "      <th>5</th>\n",
       "      <th>6</th>\n",
       "      <th>7</th>\n",
       "      <th>8</th>\n",
       "      <th>9</th>\n",
       "      <th>...</th>\n",
       "      <th>490</th>\n",
       "      <th>491</th>\n",
       "      <th>492</th>\n",
       "      <th>493</th>\n",
       "      <th>494</th>\n",
       "      <th>495</th>\n",
       "      <th>496</th>\n",
       "      <th>497</th>\n",
       "      <th>498</th>\n",
       "      <th>499</th>\n",
       "    </tr>\n",
       "  </thead>\n",
       "  <tbody>\n",
       "    <tr>\n",
       "      <th>0</th>\n",
       "      <td>1.000000</td>\n",
       "      <td>1.000000</td>\n",
       "      <td>1.000000</td>\n",
       "      <td>1.000000</td>\n",
       "      <td>1.000000</td>\n",
       "      <td>1.000000</td>\n",
       "      <td>1.000000</td>\n",
       "      <td>1.000000</td>\n",
       "      <td>1.000000</td>\n",
       "      <td>1.000000</td>\n",
       "      <td>...</td>\n",
       "      <td>1.000000</td>\n",
       "      <td>1.000000</td>\n",
       "      <td>1.000000</td>\n",
       "      <td>1.000000</td>\n",
       "      <td>1.000000</td>\n",
       "      <td>1.000000</td>\n",
       "      <td>1.000000</td>\n",
       "      <td>1.000000</td>\n",
       "      <td>1.000000</td>\n",
       "      <td>1.000000</td>\n",
       "    </tr>\n",
       "    <tr>\n",
       "      <th>1</th>\n",
       "      <td>1.001462</td>\n",
       "      <td>0.989565</td>\n",
       "      <td>0.983894</td>\n",
       "      <td>1.011644</td>\n",
       "      <td>0.964898</td>\n",
       "      <td>1.040319</td>\n",
       "      <td>1.042014</td>\n",
       "      <td>1.022097</td>\n",
       "      <td>0.993097</td>\n",
       "      <td>1.011726</td>\n",
       "      <td>...</td>\n",
       "      <td>0.998249</td>\n",
       "      <td>0.969951</td>\n",
       "      <td>1.010134</td>\n",
       "      <td>0.992993</td>\n",
       "      <td>0.957210</td>\n",
       "      <td>1.007220</td>\n",
       "      <td>1.007987</td>\n",
       "      <td>0.983906</td>\n",
       "      <td>1.001333</td>\n",
       "      <td>1.029157</td>\n",
       "    </tr>\n",
       "    <tr>\n",
       "      <th>2</th>\n",
       "      <td>0.988594</td>\n",
       "      <td>0.994757</td>\n",
       "      <td>0.975710</td>\n",
       "      <td>0.993728</td>\n",
       "      <td>0.950592</td>\n",
       "      <td>1.036420</td>\n",
       "      <td>1.040888</td>\n",
       "      <td>1.025844</td>\n",
       "      <td>1.007828</td>\n",
       "      <td>0.989532</td>\n",
       "      <td>...</td>\n",
       "      <td>0.993422</td>\n",
       "      <td>0.962621</td>\n",
       "      <td>0.987684</td>\n",
       "      <td>0.979810</td>\n",
       "      <td>0.975429</td>\n",
       "      <td>1.027048</td>\n",
       "      <td>1.034755</td>\n",
       "      <td>0.970611</td>\n",
       "      <td>1.005245</td>\n",
       "      <td>1.029870</td>\n",
       "    </tr>\n",
       "    <tr>\n",
       "      <th>3</th>\n",
       "      <td>1.002094</td>\n",
       "      <td>0.955209</td>\n",
       "      <td>0.949264</td>\n",
       "      <td>0.998049</td>\n",
       "      <td>0.975693</td>\n",
       "      <td>1.028262</td>\n",
       "      <td>1.022869</td>\n",
       "      <td>1.033398</td>\n",
       "      <td>0.988643</td>\n",
       "      <td>1.004836</td>\n",
       "      <td>...</td>\n",
       "      <td>0.986662</td>\n",
       "      <td>0.932298</td>\n",
       "      <td>0.983228</td>\n",
       "      <td>0.993835</td>\n",
       "      <td>0.959661</td>\n",
       "      <td>1.007102</td>\n",
       "      <td>1.054527</td>\n",
       "      <td>0.973357</td>\n",
       "      <td>0.986971</td>\n",
       "      <td>1.033541</td>\n",
       "    </tr>\n",
       "    <tr>\n",
       "      <th>4</th>\n",
       "      <td>1.004756</td>\n",
       "      <td>0.951040</td>\n",
       "      <td>0.946384</td>\n",
       "      <td>1.026572</td>\n",
       "      <td>0.961649</td>\n",
       "      <td>1.033881</td>\n",
       "      <td>1.070921</td>\n",
       "      <td>1.030340</td>\n",
       "      <td>0.978232</td>\n",
       "      <td>1.005977</td>\n",
       "      <td>...</td>\n",
       "      <td>0.981927</td>\n",
       "      <td>0.934460</td>\n",
       "      <td>0.982933</td>\n",
       "      <td>0.988012</td>\n",
       "      <td>0.975381</td>\n",
       "      <td>1.013895</td>\n",
       "      <td>1.047972</td>\n",
       "      <td>0.989082</td>\n",
       "      <td>0.994197</td>\n",
       "      <td>1.029484</td>\n",
       "    </tr>\n",
       "    <tr>\n",
       "      <th>...</th>\n",
       "      <td>...</td>\n",
       "      <td>...</td>\n",
       "      <td>...</td>\n",
       "      <td>...</td>\n",
       "      <td>...</td>\n",
       "      <td>...</td>\n",
       "      <td>...</td>\n",
       "      <td>...</td>\n",
       "      <td>...</td>\n",
       "      <td>...</td>\n",
       "      <td>...</td>\n",
       "      <td>...</td>\n",
       "      <td>...</td>\n",
       "      <td>...</td>\n",
       "      <td>...</td>\n",
       "      <td>...</td>\n",
       "      <td>...</td>\n",
       "      <td>...</td>\n",
       "      <td>...</td>\n",
       "      <td>...</td>\n",
       "      <td>...</td>\n",
       "    </tr>\n",
       "    <tr>\n",
       "      <th>1256</th>\n",
       "      <td>9.056440</td>\n",
       "      <td>3.709701</td>\n",
       "      <td>2.436410</td>\n",
       "      <td>11.579017</td>\n",
       "      <td>4.798136</td>\n",
       "      <td>35.611054</td>\n",
       "      <td>9.070168</td>\n",
       "      <td>7.270549</td>\n",
       "      <td>2.207164</td>\n",
       "      <td>6.430075</td>\n",
       "      <td>...</td>\n",
       "      <td>3.761371</td>\n",
       "      <td>3.122383</td>\n",
       "      <td>5.715167</td>\n",
       "      <td>3.030460</td>\n",
       "      <td>0.956089</td>\n",
       "      <td>8.927787</td>\n",
       "      <td>5.345025</td>\n",
       "      <td>4.262496</td>\n",
       "      <td>3.308912</td>\n",
       "      <td>4.944472</td>\n",
       "    </tr>\n",
       "    <tr>\n",
       "      <th>1257</th>\n",
       "      <td>9.231231</td>\n",
       "      <td>3.762166</td>\n",
       "      <td>2.443482</td>\n",
       "      <td>11.553435</td>\n",
       "      <td>4.795641</td>\n",
       "      <td>35.241233</td>\n",
       "      <td>8.999755</td>\n",
       "      <td>7.138389</td>\n",
       "      <td>2.163489</td>\n",
       "      <td>6.490639</td>\n",
       "      <td>...</td>\n",
       "      <td>3.725577</td>\n",
       "      <td>3.168147</td>\n",
       "      <td>5.864457</td>\n",
       "      <td>2.971137</td>\n",
       "      <td>0.955850</td>\n",
       "      <td>8.830681</td>\n",
       "      <td>5.422356</td>\n",
       "      <td>4.271715</td>\n",
       "      <td>3.402894</td>\n",
       "      <td>4.880452</td>\n",
       "    </tr>\n",
       "    <tr>\n",
       "      <th>1258</th>\n",
       "      <td>9.264792</td>\n",
       "      <td>3.736198</td>\n",
       "      <td>2.436618</td>\n",
       "      <td>11.474247</td>\n",
       "      <td>4.873970</td>\n",
       "      <td>34.415629</td>\n",
       "      <td>9.228602</td>\n",
       "      <td>7.245354</td>\n",
       "      <td>2.210952</td>\n",
       "      <td>6.443076</td>\n",
       "      <td>...</td>\n",
       "      <td>3.484697</td>\n",
       "      <td>3.165709</td>\n",
       "      <td>6.098266</td>\n",
       "      <td>2.943486</td>\n",
       "      <td>0.978594</td>\n",
       "      <td>8.782257</td>\n",
       "      <td>5.377413</td>\n",
       "      <td>4.321817</td>\n",
       "      <td>3.499823</td>\n",
       "      <td>5.023936</td>\n",
       "    </tr>\n",
       "    <tr>\n",
       "      <th>1259</th>\n",
       "      <td>9.204547</td>\n",
       "      <td>3.812775</td>\n",
       "      <td>2.472663</td>\n",
       "      <td>11.518137</td>\n",
       "      <td>4.782874</td>\n",
       "      <td>34.661667</td>\n",
       "      <td>9.375531</td>\n",
       "      <td>7.410052</td>\n",
       "      <td>2.232375</td>\n",
       "      <td>6.469044</td>\n",
       "      <td>...</td>\n",
       "      <td>3.585490</td>\n",
       "      <td>3.230360</td>\n",
       "      <td>6.249154</td>\n",
       "      <td>2.942317</td>\n",
       "      <td>0.995060</td>\n",
       "      <td>8.797304</td>\n",
       "      <td>5.580850</td>\n",
       "      <td>4.243732</td>\n",
       "      <td>3.515633</td>\n",
       "      <td>5.142068</td>\n",
       "    </tr>\n",
       "    <tr>\n",
       "      <th>1260</th>\n",
       "      <td>9.491714</td>\n",
       "      <td>3.732558</td>\n",
       "      <td>2.462050</td>\n",
       "      <td>11.638116</td>\n",
       "      <td>4.741400</td>\n",
       "      <td>35.583915</td>\n",
       "      <td>9.538883</td>\n",
       "      <td>7.406151</td>\n",
       "      <td>2.291127</td>\n",
       "      <td>6.868661</td>\n",
       "      <td>...</td>\n",
       "      <td>3.590258</td>\n",
       "      <td>3.242818</td>\n",
       "      <td>6.218169</td>\n",
       "      <td>2.906014</td>\n",
       "      <td>0.986053</td>\n",
       "      <td>8.817229</td>\n",
       "      <td>5.491405</td>\n",
       "      <td>4.304972</td>\n",
       "      <td>3.362444</td>\n",
       "      <td>5.103424</td>\n",
       "    </tr>\n",
       "  </tbody>\n",
       "</table>\n",
       "<p>1261 rows × 500 columns</p>\n",
       "</div>"
      ],
      "text/plain": [
       "           0         1         2          3         4          5         6    \\\n",
       "0     1.000000  1.000000  1.000000   1.000000  1.000000   1.000000  1.000000   \n",
       "1     1.001462  0.989565  0.983894   1.011644  0.964898   1.040319  1.042014   \n",
       "2     0.988594  0.994757  0.975710   0.993728  0.950592   1.036420  1.040888   \n",
       "3     1.002094  0.955209  0.949264   0.998049  0.975693   1.028262  1.022869   \n",
       "4     1.004756  0.951040  0.946384   1.026572  0.961649   1.033881  1.070921   \n",
       "...        ...       ...       ...        ...       ...        ...       ...   \n",
       "1256  9.056440  3.709701  2.436410  11.579017  4.798136  35.611054  9.070168   \n",
       "1257  9.231231  3.762166  2.443482  11.553435  4.795641  35.241233  8.999755   \n",
       "1258  9.264792  3.736198  2.436618  11.474247  4.873970  34.415629  9.228602   \n",
       "1259  9.204547  3.812775  2.472663  11.518137  4.782874  34.661667  9.375531   \n",
       "1260  9.491714  3.732558  2.462050  11.638116  4.741400  35.583915  9.538883   \n",
       "\n",
       "           7         8         9    ...       490       491       492  \\\n",
       "0     1.000000  1.000000  1.000000  ...  1.000000  1.000000  1.000000   \n",
       "1     1.022097  0.993097  1.011726  ...  0.998249  0.969951  1.010134   \n",
       "2     1.025844  1.007828  0.989532  ...  0.993422  0.962621  0.987684   \n",
       "3     1.033398  0.988643  1.004836  ...  0.986662  0.932298  0.983228   \n",
       "4     1.030340  0.978232  1.005977  ...  0.981927  0.934460  0.982933   \n",
       "...        ...       ...       ...  ...       ...       ...       ...   \n",
       "1256  7.270549  2.207164  6.430075  ...  3.761371  3.122383  5.715167   \n",
       "1257  7.138389  2.163489  6.490639  ...  3.725577  3.168147  5.864457   \n",
       "1258  7.245354  2.210952  6.443076  ...  3.484697  3.165709  6.098266   \n",
       "1259  7.410052  2.232375  6.469044  ...  3.585490  3.230360  6.249154   \n",
       "1260  7.406151  2.291127  6.868661  ...  3.590258  3.242818  6.218169   \n",
       "\n",
       "           493       494       495       496       497       498       499  \n",
       "0     1.000000  1.000000  1.000000  1.000000  1.000000  1.000000  1.000000  \n",
       "1     0.992993  0.957210  1.007220  1.007987  0.983906  1.001333  1.029157  \n",
       "2     0.979810  0.975429  1.027048  1.034755  0.970611  1.005245  1.029870  \n",
       "3     0.993835  0.959661  1.007102  1.054527  0.973357  0.986971  1.033541  \n",
       "4     0.988012  0.975381  1.013895  1.047972  0.989082  0.994197  1.029484  \n",
       "...        ...       ...       ...       ...       ...       ...       ...  \n",
       "1256  3.030460  0.956089  8.927787  5.345025  4.262496  3.308912  4.944472  \n",
       "1257  2.971137  0.955850  8.830681  5.422356  4.271715  3.402894  4.880452  \n",
       "1258  2.943486  0.978594  8.782257  5.377413  4.321817  3.499823  5.023936  \n",
       "1259  2.942317  0.995060  8.797304  5.580850  4.243732  3.515633  5.142068  \n",
       "1260  2.906014  0.986053  8.817229  5.491405  4.304972  3.362444  5.103424  \n",
       "\n",
       "[1261 rows x 500 columns]"
      ]
     },
     "execution_count": 10,
     "metadata": {},
     "output_type": "execute_result"
    }
   ],
   "source": [
    "MC_AMZN.calc_cumulative_return()"
   ]
  },
  {
   "cell_type": "markdown",
   "id": "reliable-market",
   "metadata": {},
   "source": [
    "*Plot simulation outcomes*"
   ]
  },
  {
   "cell_type": "code",
   "execution_count": 11,
   "id": "western-clock",
   "metadata": {},
   "outputs": [
    {
     "data": {
      "image/png": "[encoded data removed]",
      "text/plain": [
       "<Figure size 432x288 with 1 Axes>"
      ]
     },
     "metadata": {
      "needs_background": "light"
     },
     "output_type": "display_data"
    }
   ],
   "source": [
    "line_plot = MC_AMZN.plot_simulation()"
   ]
  },
  {
   "cell_type": "markdown",
   "id": "floating-glance",
   "metadata": {},
   "source": [
    "*Save the plot for future usage*"
   ]
  },
  {
   "cell_type": "code",
   "execution_count": 12,
   "id": "complete-circle",
   "metadata": {},
   "outputs": [],
   "source": [
    "line_plot.get_figure().savefig(\"MC_fiveyear_sim_plot.png\", bbox_inches=\"tight\")"
   ]
  },
  {
   "cell_type": "markdown",
   "id": "banned-macintosh",
   "metadata": {},
   "source": [
    "*Plot probability distribution and confidence intervals*"
   ]
  },
  {
   "cell_type": "code",
   "execution_count": 14,
   "id": "intellectual-great",
   "metadata": {},
   "outputs": [
    {
     "data": {
      "image/png": "[encoded data removed]",
      "text/plain": [
       "<Figure size 432x288 with 1 Axes>"
      ]
     },
     "metadata": {
      "needs_background": "light"
     },
     "output_type": "display_data"
    }
   ],
   "source": [
    "dist_plot = MC_AMZN.plot_distribution()"
   ]
  },
  {
   "cell_type": "markdown",
   "id": "sapphire-oasis",
   "metadata": {},
   "source": [
    "*Save the plot for future usage*"
   ]
  },
  {
   "cell_type": "code",
   "execution_count": 17,
   "id": "informed-decision",
   "metadata": {},
   "outputs": [],
   "source": [
    "dist_plot.get_figure().savefig('MC_fiveyear_dist_plot.png',bbox_inches='tight')"
   ]
  },
  {
   "cell_type": "markdown",
   "id": "professional-thanks",
   "metadata": {},
   "source": [
    "*Fetch summary statistics from the Monte Carlo simulation results*"
   ]
  },
  {
   "cell_type": "code",
   "execution_count": 18,
   "id": "billion-point",
   "metadata": {},
   "outputs": [],
   "source": [
    "tbl = MC_AMZN.summarize_cumulative_return()"
   ]
  },
  {
   "cell_type": "markdown",
   "id": "single-animation",
   "metadata": {},
   "source": [
    "*Print summary statistics*"
   ]
  },
  {
   "cell_type": "code",
   "execution_count": 19,
   "id": "dominican-reproduction",
   "metadata": {},
   "outputs": [
    {
     "name": "stdout",
     "output_type": "stream",
     "text": [
      "count           500.000000\n",
      "mean              6.108440\n",
      "std               4.750296\n",
      "min               0.722335\n",
      "25%               3.015600\n",
      "50%               4.827053\n",
      "75%               7.768543\n",
      "max              36.856924\n",
      "95% CI Lower      1.283642\n",
      "95% CI Upper     17.592259\n",
      "Name: 1260, dtype: float64\n"
     ]
    }
   ],
   "source": [
    "print(tbl)"
   ]
  },
  {
   "cell_type": "markdown",
   "id": "scenic-manufacturer",
   "metadata": {},
   "source": [
    "*Use the lower and upper `95%` confidence intervals to calculate the range of the possible outcomes of our $15,000 investments in AMZN stocks*"
   ]
  },
  {
   "cell_type": "code",
   "execution_count": 20,
   "id": "operational-actress",
   "metadata": {},
   "outputs": [],
   "source": [
    "ci_lower = round(tbl[8]*10000,2)\n",
    "ci_upper = round(tbl[9]*10000,2)"
   ]
  },
  {
   "cell_type": "markdown",
   "id": "otherwise-dynamics",
   "metadata": {},
   "source": [
    "*Print results*"
   ]
  },
  {
   "cell_type": "code",
   "execution_count": 21,
   "id": "crucial-desire",
   "metadata": {},
   "outputs": [
    {
     "name": "stdout",
     "output_type": "stream",
     "text": [
      "There is a 95% chance that an initial investment of $15,000 in the portfolio over the next year will end within in the range of $12836.42 and $175922.59.\n"
     ]
    }
   ],
   "source": [
    "print(f\"There is a 95% chance that an initial investment of $15,000 in the portfolio\"\n",
    "      f\" over the next year will end within in the range of\"\n",
    "      f\" ${ci_lower} and ${ci_upper}.\")"
   ]
  },
  {
   "cell_type": "markdown",
   "id": "sunrise-hepatitis",
   "metadata": {},
   "source": [
    "*Compute summary statistics from the simulated daily returns*"
   ]
  },
  {
   "cell_type": "code",
   "execution_count": 22,
   "id": "female-cartridge",
   "metadata": {},
   "outputs": [],
   "source": [
    "simulated_returns_data = {\n",
    "    'mean' : list(MC_AMZN.simulated_return.mean(axis=1)),\n",
    "    'median' : list(MC_AMZN.simulated_return.median(axis=1)),\n",
    "    'min' : list(MC_AMZN.simulated_return.min(axis=1)),\n",
    "    'max' : list(MC_AMZN.simulated_return.max(axis=1))\n",
    "}"
   ]
  },
  {
   "cell_type": "markdown",
   "id": "usual-hunter",
   "metadata": {},
   "source": [
    "*Create a DataFrame with the summary statistics*"
   ]
  },
  {
   "cell_type": "code",
   "execution_count": 23,
   "id": "comfortable-nickname",
   "metadata": {},
   "outputs": [],
   "source": [
    "df_simulated_returns = pd.DataFrame(simulated_returns_data)"
   ]
  },
  {
   "cell_type": "markdown",
   "id": "substantial-basement",
   "metadata": {},
   "source": [
    "*Display sample data*"
   ]
  },
  {
   "cell_type": "code",
   "execution_count": 24,
   "id": "humanitarian-philip",
   "metadata": {},
   "outputs": [
    {
     "data": {
      "text/html": [
       "<div>\n",
       "<style scoped>\n",
       "    .dataframe tbody tr th:only-of-type {\n",
       "        vertical-align: middle;\n",
       "    }\n",
       "\n",
       "    .dataframe tbody tr th {\n",
       "        vertical-align: top;\n",
       "    }\n",
       "\n",
       "    .dataframe thead th {\n",
       "        text-align: right;\n",
       "    }\n",
       "</style>\n",
       "<table border=\"1\" class=\"dataframe\">\n",
       "  <thead>\n",
       "    <tr style=\"text-align: right;\">\n",
       "      <th></th>\n",
       "      <th>mean</th>\n",
       "      <th>median</th>\n",
       "      <th>min</th>\n",
       "      <th>max</th>\n",
       "    </tr>\n",
       "  </thead>\n",
       "  <tbody>\n",
       "    <tr>\n",
       "      <th>0</th>\n",
       "      <td>1.000000</td>\n",
       "      <td>1.000000</td>\n",
       "      <td>1.000000</td>\n",
       "      <td>1.000000</td>\n",
       "    </tr>\n",
       "    <tr>\n",
       "      <th>1</th>\n",
       "      <td>1.000702</td>\n",
       "      <td>1.001452</td>\n",
       "      <td>0.950454</td>\n",
       "      <td>1.063779</td>\n",
       "    </tr>\n",
       "    <tr>\n",
       "      <th>2</th>\n",
       "      <td>1.000421</td>\n",
       "      <td>0.999860</td>\n",
       "      <td>0.922714</td>\n",
       "      <td>1.092285</td>\n",
       "    </tr>\n",
       "    <tr>\n",
       "      <th>3</th>\n",
       "      <td>1.001935</td>\n",
       "      <td>1.001870</td>\n",
       "      <td>0.908719</td>\n",
       "      <td>1.103170</td>\n",
       "    </tr>\n",
       "    <tr>\n",
       "      <th>4</th>\n",
       "      <td>1.002785</td>\n",
       "      <td>1.003954</td>\n",
       "      <td>0.908126</td>\n",
       "      <td>1.122570</td>\n",
       "    </tr>\n",
       "  </tbody>\n",
       "</table>\n",
       "</div>"
      ],
      "text/plain": [
       "       mean    median       min       max\n",
       "0  1.000000  1.000000  1.000000  1.000000\n",
       "1  1.000702  1.001452  0.950454  1.063779\n",
       "2  1.000421  0.999860  0.922714  1.092285\n",
       "3  1.001935  1.001870  0.908719  1.103170\n",
       "4  1.002785  1.003954  0.908126  1.122570"
      ]
     },
     "execution_count": 24,
     "metadata": {},
     "output_type": "execute_result"
    }
   ],
   "source": [
    "df_simulated_returns.head()"
   ]
  },
  {
   "cell_type": "markdown",
   "id": "developmental-mandate",
   "metadata": {},
   "source": [
    "*Use the `plot` function to visually analyze the trajectory of AMZN stock daily returns on a trading day simulation*"
   ]
  },
  {
   "cell_type": "code",
   "execution_count": 25,
   "id": "martial-effort",
   "metadata": {},
   "outputs": [
    {
     "data": {
      "text/plain": [
       "<AxesSubplot:title={'center':'Simulated Daily Returns Behavior of AMZN Stock Over the Next Year'}>"
      ]
     },
     "execution_count": 25,
     "metadata": {},
     "output_type": "execute_result"
    },
    {
     "data": {
      "image/png": "[encoded data removed]",
      "text/plain": [
       "<Figure size 432x288 with 1 Axes>"
      ]
     },
     "metadata": {
      "needs_background": "light"
     },
     "output_type": "display_data"
    }
   ],
   "source": [
    "df_simulated_returns.plot(title=\"Simulated Daily Returns Behavior of AMZN Stock Over the Next Year\")"
   ]
  },
  {
   "cell_type": "markdown",
   "id": "explicit-czech",
   "metadata": {},
   "source": [
    "*Set initial investment*"
   ]
  },
  {
   "cell_type": "code",
   "execution_count": 26,
   "id": "canadian-delay",
   "metadata": {},
   "outputs": [],
   "source": [
    "initial_investment = 15000"
   ]
  },
  {
   "cell_type": "markdown",
   "id": "contained-table",
   "metadata": {},
   "source": [
    "*Multiply an initial investment by the daily returns of simulative stock prices to return the progression of daily returns in terms of money*"
   ]
  },
  {
   "cell_type": "code",
   "execution_count": 27,
   "id": "compound-memorabilia",
   "metadata": {},
   "outputs": [],
   "source": [
    "cumulative_pnl = initial_investment * df_simulated_returns"
   ]
  },
  {
   "cell_type": "markdown",
   "id": "worldwide-harassment",
   "metadata": {},
   "source": [
    "*Display sample data*"
   ]
  },
  {
   "cell_type": "code",
   "execution_count": 28,
   "id": "connected-louisiana",
   "metadata": {},
   "outputs": [
    {
     "data": {
      "text/html": [
       "<div>\n",
       "<style scoped>\n",
       "    .dataframe tbody tr th:only-of-type {\n",
       "        vertical-align: middle;\n",
       "    }\n",
       "\n",
       "    .dataframe tbody tr th {\n",
       "        vertical-align: top;\n",
       "    }\n",
       "\n",
       "    .dataframe thead th {\n",
       "        text-align: right;\n",
       "    }\n",
       "</style>\n",
       "<table border=\"1\" class=\"dataframe\">\n",
       "  <thead>\n",
       "    <tr style=\"text-align: right;\">\n",
       "      <th></th>\n",
       "      <th>mean</th>\n",
       "      <th>median</th>\n",
       "      <th>min</th>\n",
       "      <th>max</th>\n",
       "    </tr>\n",
       "  </thead>\n",
       "  <tbody>\n",
       "    <tr>\n",
       "      <th>0</th>\n",
       "      <td>15000.000000</td>\n",
       "      <td>15000.000000</td>\n",
       "      <td>15000.000000</td>\n",
       "      <td>15000.000000</td>\n",
       "    </tr>\n",
       "    <tr>\n",
       "      <th>1</th>\n",
       "      <td>15010.524814</td>\n",
       "      <td>15021.774394</td>\n",
       "      <td>14256.816841</td>\n",
       "      <td>15956.682485</td>\n",
       "    </tr>\n",
       "    <tr>\n",
       "      <th>2</th>\n",
       "      <td>15006.321520</td>\n",
       "      <td>14997.899051</td>\n",
       "      <td>13840.706272</td>\n",
       "      <td>16384.279568</td>\n",
       "    </tr>\n",
       "    <tr>\n",
       "      <th>3</th>\n",
       "      <td>15029.032210</td>\n",
       "      <td>15028.049395</td>\n",
       "      <td>13630.784372</td>\n",
       "      <td>16547.547577</td>\n",
       "    </tr>\n",
       "    <tr>\n",
       "      <th>4</th>\n",
       "      <td>15041.775713</td>\n",
       "      <td>15059.307387</td>\n",
       "      <td>13621.895581</td>\n",
       "      <td>16838.547591</td>\n",
       "    </tr>\n",
       "  </tbody>\n",
       "</table>\n",
       "</div>"
      ],
      "text/plain": [
       "           mean        median           min           max\n",
       "0  15000.000000  15000.000000  15000.000000  15000.000000\n",
       "1  15010.524814  15021.774394  14256.816841  15956.682485\n",
       "2  15006.321520  14997.899051  13840.706272  16384.279568\n",
       "3  15029.032210  15028.049395  13630.784372  16547.547577\n",
       "4  15041.775713  15059.307387  13621.895581  16838.547591"
      ]
     },
     "execution_count": 28,
     "metadata": {},
     "output_type": "execute_result"
    }
   ],
   "source": [
    "cumulative_pnl.head()"
   ]
  },
  {
   "cell_type": "markdown",
   "id": "focal-defendant",
   "metadata": {},
   "source": [
    "*Use the 'plot' function to create a chart of the simulated profits/losses*"
   ]
  },
  {
   "cell_type": "code",
   "execution_count": 29,
   "id": "increasing-baseball",
   "metadata": {},
   "outputs": [
    {
     "data": {
      "text/plain": [
       "<AxesSubplot:title={'center':'Simulated Outcomes Behavior of AMZN Stock Over the Next Year'}>"
      ]
     },
     "execution_count": 29,
     "metadata": {},
     "output_type": "execute_result"
    },
    {
     "data": {
      "image/png": "[encoded data removed]",
      "text/plain": [
       "<Figure size 432x288 with 1 Axes>"
      ]
     },
     "metadata": {
      "needs_background": "light"
     },
     "output_type": "display_data"
    }
   ],
   "source": [
    "cumulative_pnl.plot(title=\"Simulated Outcomes Behavior of AMZN Stock Over the Next Year\")"
   ]
  }
 ],
 "metadata": {
  "kernelspec": {
   "display_name": "Python [conda env:dev]",
   "language": "python",
   "name": "conda-env-dev-py"
  },
  "language_info": {
   "codemirror_mode": {
    "name": "ipython",
    "version": 3
   },
   "file_extension": ".py",
   "mimetype": "text/x-python",
   "name": "python",
   "nbconvert_exporter": "python",
   "pygments_lexer": "ipython3",
   "version": "3.7.7"
  }
 },
 "nbformat": 4,
 "nbformat_minor": 5
}
