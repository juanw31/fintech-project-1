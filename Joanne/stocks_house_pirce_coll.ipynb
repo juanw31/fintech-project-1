{
 "cells": [
  {
   "cell_type": "code",
   "execution_count": 13,
   "metadata": {},
   "outputs": [
    {
     "ename": "ModuleNotFoundError",
     "evalue": "No module named 'MCForecastTools'",
     "output_type": "error",
     "traceback": [
      "\u001b[1;31m---------------------------------------------------------------------------\u001b[0m",
      "\u001b[1;31mModuleNotFoundError\u001b[0m                       Traceback (most recent call last)",
      "\u001b[1;32m<ipython-input-13-e167098c0beb>\u001b[0m in \u001b[0;36m<module>\u001b[1;34m\u001b[0m\n\u001b[0;32m      7\u001b[0m \u001b[1;32mimport\u001b[0m \u001b[0mseaborn\u001b[0m \u001b[1;32mas\u001b[0m \u001b[0msns\u001b[0m\u001b[1;33m\u001b[0m\u001b[1;33m\u001b[0m\u001b[0m\n\u001b[0;32m      8\u001b[0m \u001b[1;32mimport\u001b[0m \u001b[0malpaca_trade_api\u001b[0m \u001b[1;32mas\u001b[0m \u001b[0mtradeapi\u001b[0m\u001b[1;33m\u001b[0m\u001b[1;33m\u001b[0m\u001b[0m\n\u001b[1;32m----> 9\u001b[1;33m \u001b[1;32mfrom\u001b[0m \u001b[0mMCForecastTools\u001b[0m \u001b[1;32mimport\u001b[0m \u001b[0mMCSimulation\u001b[0m\u001b[1;33m\u001b[0m\u001b[1;33m\u001b[0m\u001b[0m\n\u001b[0m\u001b[0;32m     10\u001b[0m \u001b[1;33m\u001b[0m\u001b[0m\n\u001b[0;32m     11\u001b[0m \u001b[0mget_ipython\u001b[0m\u001b[1;33m(\u001b[0m\u001b[1;33m)\u001b[0m\u001b[1;33m.\u001b[0m\u001b[0mrun_line_magic\u001b[0m\u001b[1;33m(\u001b[0m\u001b[1;34m'matplotlib'\u001b[0m\u001b[1;33m,\u001b[0m \u001b[1;34m'inline'\u001b[0m\u001b[1;33m)\u001b[0m\u001b[1;33m\u001b[0m\u001b[1;33m\u001b[0m\u001b[0m\n",
      "\u001b[1;31mModuleNotFoundError\u001b[0m: No module named 'MCForecastTools'"
     ]
    }
   ],
   "source": [
    "# Import libraries and dependencies\n",
    "import os\n",
    "import numpy as np\n",
    "import matplotlib.pyplot as plt\n",
    "import pandas as pd\n",
    "from pathlib import Path\n",
    "import seaborn as sns\n",
    "import alpaca_trade_api as tradeapi\n",
    "from MCForecastTools import MCSimulation\n",
    "\n",
    "%matplotlib inline"
   ]
  },
  {
   "cell_type": "code",
   "execution_count": 12,
   "metadata": {},
   "outputs": [],
   "source": [
    "# Set the file paths to the CSVs using the Path class from the pathlib library\n",
    "stock_csv_path = Path(\"Asset_Prices_Month.csv\")\n",
    "housing_csv_path = Path(\"Housing_prices_month_aggregate_clean.csv\")"
   ]
  },
  {
   "cell_type": "code",
   "execution_count": 5,
   "metadata": {},
   "outputs": [
    {
     "data": {
      "text/html": [
       "<div>\n",
       "<style scoped>\n",
       "    .dataframe tbody tr th:only-of-type {\n",
       "        vertical-align: middle;\n",
       "    }\n",
       "\n",
       "    .dataframe tbody tr th {\n",
       "        vertical-align: top;\n",
       "    }\n",
       "\n",
       "    .dataframe thead th {\n",
       "        text-align: right;\n",
       "    }\n",
       "</style>\n",
       "<table border=\"1\" class=\"dataframe\">\n",
       "  <thead>\n",
       "    <tr style=\"text-align: right;\">\n",
       "      <th></th>\n",
       "      <th>AMZN</th>\n",
       "      <th>BA</th>\n",
       "      <th>MSFT</th>\n",
       "      <th>BTC</th>\n",
       "      <th>Gold</th>\n",
       "      <th>30 T-Bond</th>\n",
       "    </tr>\n",
       "    <tr>\n",
       "      <th>Date</th>\n",
       "      <th></th>\n",
       "      <th></th>\n",
       "      <th></th>\n",
       "      <th></th>\n",
       "      <th></th>\n",
       "      <th></th>\n",
       "    </tr>\n",
       "  </thead>\n",
       "  <tbody>\n",
       "    <tr>\n",
       "      <th>2012-02-29</th>\n",
       "      <td>179.69</td>\n",
       "      <td>74.95</td>\n",
       "      <td>31.74</td>\n",
       "      <td>NaN</td>\n",
       "      <td>1716.6</td>\n",
       "      <td>3.08</td>\n",
       "    </tr>\n",
       "    <tr>\n",
       "      <th>2012-03-31</th>\n",
       "      <td>202.51</td>\n",
       "      <td>74.37</td>\n",
       "      <td>32.26</td>\n",
       "      <td>NaN</td>\n",
       "      <td>1674.3</td>\n",
       "      <td>3.35</td>\n",
       "    </tr>\n",
       "    <tr>\n",
       "      <th>2012-04-30</th>\n",
       "      <td>231.90</td>\n",
       "      <td>76.80</td>\n",
       "      <td>32.02</td>\n",
       "      <td>NaN</td>\n",
       "      <td>1666.5</td>\n",
       "      <td>3.12</td>\n",
       "    </tr>\n",
       "    <tr>\n",
       "      <th>2012-05-31</th>\n",
       "      <td>212.91</td>\n",
       "      <td>69.61</td>\n",
       "      <td>29.19</td>\n",
       "      <td>NaN</td>\n",
       "      <td>1564.2</td>\n",
       "      <td>2.67</td>\n",
       "    </tr>\n",
       "    <tr>\n",
       "      <th>2012-06-30</th>\n",
       "      <td>228.35</td>\n",
       "      <td>74.30</td>\n",
       "      <td>30.59</td>\n",
       "      <td>NaN</td>\n",
       "      <td>1604.2</td>\n",
       "      <td>2.76</td>\n",
       "    </tr>\n",
       "  </tbody>\n",
       "</table>\n",
       "</div>"
      ],
      "text/plain": [
       "              AMZN     BA   MSFT  BTC    Gold  30 T-Bond\n",
       "Date                                                    \n",
       "2012-02-29  179.69  74.95  31.74  NaN  1716.6       3.08\n",
       "2012-03-31  202.51  74.37  32.26  NaN  1674.3       3.35\n",
       "2012-04-30  231.90  76.80  32.02  NaN  1666.5       3.12\n",
       "2012-05-31  212.91  69.61  29.19  NaN  1564.2       2.67\n",
       "2012-06-30  228.35  74.30  30.59  NaN  1604.2       2.76"
      ]
     },
     "execution_count": 5,
     "metadata": {},
     "output_type": "execute_result"
    }
   ],
   "source": [
    "# Read the stocks data, set the `date` as the index\n",
    "stocks_df = pd.read_csv(stock_csv_path, index_col=\"Date\", infer_datetime_format=True, parse_dates=True)\n",
    "house_price_df = pd.read_csv(housing_csv_path, index_col=\"Date\", infer_datetime_format=True, parse_dates=True)\n",
    "\n",
    "stocks_df.head()"
   ]
  },
  {
   "cell_type": "code",
   "execution_count": 23,
   "metadata": {},
   "outputs": [
    {
     "data": {
      "text/plain": [
       "<matplotlib.axes._subplots.AxesSubplot at 0x10c6ebdc688>"
      ]
     },
     "execution_count": 23,
     "metadata": {},
     "output_type": "execute_result"
    },
    {
     "data": {
      "image/png": "[encoded data removed]",
      "text/plain": [
       "<Figure size 432x288 with 1 Axes>"
      ]
     },
     "metadata": {
      "needs_background": "light"
     },
     "output_type": "display_data"
    }
   ],
   "source": [
    "# Plot the data trends of the two variables over time\n",
    "stocks_df.plot()"
   ]
  },
  {
   "cell_type": "code",
   "execution_count": 24,
   "metadata": {},
   "outputs": [
    {
     "data": {
      "text/html": [
       "<div>\n",
       "<style scoped>\n",
       "    .dataframe tbody tr th:only-of-type {\n",
       "        vertical-align: middle;\n",
       "    }\n",
       "\n",
       "    .dataframe tbody tr th {\n",
       "        vertical-align: top;\n",
       "    }\n",
       "\n",
       "    .dataframe thead th {\n",
       "        text-align: right;\n",
       "    }\n",
       "</style>\n",
       "<table border=\"1\" class=\"dataframe\">\n",
       "  <thead>\n",
       "    <tr style=\"text-align: right;\">\n",
       "      <th></th>\n",
       "      <th>AMZN</th>\n",
       "      <th>BA</th>\n",
       "      <th>MSFT</th>\n",
       "      <th>BTC</th>\n",
       "      <th>Gold</th>\n",
       "      <th>30 T-Bond</th>\n",
       "    </tr>\n",
       "  </thead>\n",
       "  <tbody>\n",
       "    <tr>\n",
       "      <th>AMZN</th>\n",
       "      <td>1.000000</td>\n",
       "      <td>0.576007</td>\n",
       "      <td>0.983154</td>\n",
       "      <td>0.735486</td>\n",
       "      <td>0.524567</td>\n",
       "      <td>-0.691376</td>\n",
       "    </tr>\n",
       "    <tr>\n",
       "      <th>BA</th>\n",
       "      <td>0.576007</td>\n",
       "      <td>1.000000</td>\n",
       "      <td>0.522784</td>\n",
       "      <td>0.269741</td>\n",
       "      <td>-0.113441</td>\n",
       "      <td>-0.124258</td>\n",
       "    </tr>\n",
       "    <tr>\n",
       "      <th>MSFT</th>\n",
       "      <td>0.983154</td>\n",
       "      <td>0.522784</td>\n",
       "      <td>1.000000</td>\n",
       "      <td>0.776143</td>\n",
       "      <td>0.562743</td>\n",
       "      <td>-0.728569</td>\n",
       "    </tr>\n",
       "    <tr>\n",
       "      <th>BTC</th>\n",
       "      <td>0.735486</td>\n",
       "      <td>0.269741</td>\n",
       "      <td>0.776143</td>\n",
       "      <td>1.000000</td>\n",
       "      <td>0.645120</td>\n",
       "      <td>-0.392672</td>\n",
       "    </tr>\n",
       "    <tr>\n",
       "      <th>Gold</th>\n",
       "      <td>0.524567</td>\n",
       "      <td>-0.113441</td>\n",
       "      <td>0.562743</td>\n",
       "      <td>0.645120</td>\n",
       "      <td>1.000000</td>\n",
       "      <td>-0.615138</td>\n",
       "    </tr>\n",
       "    <tr>\n",
       "      <th>30 T-Bond</th>\n",
       "      <td>-0.691376</td>\n",
       "      <td>-0.124258</td>\n",
       "      <td>-0.728569</td>\n",
       "      <td>-0.392672</td>\n",
       "      <td>-0.615138</td>\n",
       "      <td>1.000000</td>\n",
       "    </tr>\n",
       "  </tbody>\n",
       "</table>\n",
       "</div>"
      ],
      "text/plain": [
       "               AMZN        BA      MSFT       BTC      Gold  30 T-Bond\n",
       "AMZN       1.000000  0.576007  0.983154  0.735486  0.524567  -0.691376\n",
       "BA         0.576007  1.000000  0.522784  0.269741 -0.113441  -0.124258\n",
       "MSFT       0.983154  0.522784  1.000000  0.776143  0.562743  -0.728569\n",
       "BTC        0.735486  0.269741  0.776143  1.000000  0.645120  -0.392672\n",
       "Gold       0.524567 -0.113441  0.562743  0.645120  1.000000  -0.615138\n",
       "30 T-Bond -0.691376 -0.124258 -0.728569 -0.392672 -0.615138   1.000000"
      ]
     },
     "execution_count": 24,
     "metadata": {},
     "output_type": "execute_result"
    }
   ],
   "source": [
    "# Calculate the correlation\n",
    "correlation = stocks_df.corr()\n",
    "\n",
    "# Display de correlation matrix\n",
    "correlation"
   ]
  },
  {
   "cell_type": "code",
   "execution_count": 25,
   "metadata": {},
   "outputs": [
    {
     "data": {
      "image/png": "[encoded data removed]",
      "text/plain": [
       "<Figure size 432x288 with 1 Axes>"
      ]
     },
     "metadata": {
      "needs_background": "light"
     },
     "output_type": "display_data"
    }
   ],
   "source": [
    "# Calculate and plot the correlation\n",
    "correlation = stocks_df.corr()\n",
    "correlation\n",
    "stocks_df.plot(kind = \"scatter\", x=\"MSFT\", y = \"AMZN\");"
   ]
  },
  {
   "cell_type": "code",
   "execution_count": 35,
   "metadata": {},
   "outputs": [
    {
     "data": {
      "text/html": [
       "<div>\n",
       "<style scoped>\n",
       "    .dataframe tbody tr th:only-of-type {\n",
       "        vertical-align: middle;\n",
       "    }\n",
       "\n",
       "    .dataframe tbody tr th {\n",
       "        vertical-align: top;\n",
       "    }\n",
       "\n",
       "    .dataframe thead th {\n",
       "        text-align: right;\n",
       "    }\n",
       "</style>\n",
       "<table border=\"1\" class=\"dataframe\">\n",
       "  <thead>\n",
       "    <tr style=\"text-align: right;\">\n",
       "      <th></th>\n",
       "      <th>AMZN</th>\n",
       "      <th>BA</th>\n",
       "      <th>MSFT</th>\n",
       "      <th>BTC</th>\n",
       "      <th>Gold</th>\n",
       "      <th>30 T-Bond</th>\n",
       "    </tr>\n",
       "    <tr>\n",
       "      <th>Date</th>\n",
       "      <th></th>\n",
       "      <th></th>\n",
       "      <th></th>\n",
       "      <th></th>\n",
       "      <th></th>\n",
       "      <th></th>\n",
       "    </tr>\n",
       "  </thead>\n",
       "  <tbody>\n",
       "    <tr>\n",
       "      <th>2013-11-30</th>\n",
       "      <td>0.081285</td>\n",
       "      <td>0.028736</td>\n",
       "      <td>0.076814</td>\n",
       "      <td>4.450260</td>\n",
       "      <td>-0.055585</td>\n",
       "      <td>0.052342</td>\n",
       "    </tr>\n",
       "    <tr>\n",
       "      <th>2013-12-31</th>\n",
       "      <td>0.013134</td>\n",
       "      <td>0.016685</td>\n",
       "      <td>-0.018883</td>\n",
       "      <td>-0.303446</td>\n",
       "      <td>-0.038864</td>\n",
       "      <td>0.036649</td>\n",
       "    </tr>\n",
       "    <tr>\n",
       "      <th>2014-01-31</th>\n",
       "      <td>-0.100554</td>\n",
       "      <td>-0.082277</td>\n",
       "      <td>0.011494</td>\n",
       "      <td>0.130777</td>\n",
       "      <td>0.031533</td>\n",
       "      <td>-0.088384</td>\n",
       "    </tr>\n",
       "    <tr>\n",
       "      <th>2014-02-28</th>\n",
       "      <td>0.009507</td>\n",
       "      <td>0.029219</td>\n",
       "      <td>0.012421</td>\n",
       "      <td>-0.325851</td>\n",
       "      <td>0.065817</td>\n",
       "      <td>-0.005540</td>\n",
       "    </tr>\n",
       "    <tr>\n",
       "      <th>2014-03-31</th>\n",
       "      <td>-0.071058</td>\n",
       "      <td>-0.026606</td>\n",
       "      <td>0.069956</td>\n",
       "      <td>-0.167128</td>\n",
       "      <td>-0.028530</td>\n",
       "      <td>-0.008357</td>\n",
       "    </tr>\n",
       "  </tbody>\n",
       "</table>\n",
       "</div>"
      ],
      "text/plain": [
       "                AMZN        BA      MSFT       BTC      Gold  30 T-Bond\n",
       "Date                                                                   \n",
       "2013-11-30  0.081285  0.028736  0.076814  4.450260 -0.055585   0.052342\n",
       "2013-12-31  0.013134  0.016685 -0.018883 -0.303446 -0.038864   0.036649\n",
       "2014-01-31 -0.100554 -0.082277  0.011494  0.130777  0.031533  -0.088384\n",
       "2014-02-28  0.009507  0.029219  0.012421 -0.325851  0.065817  -0.005540\n",
       "2014-03-31 -0.071058 -0.026606  0.069956 -0.167128 -0.028530  -0.008357"
      ]
     },
     "execution_count": 35,
     "metadata": {},
     "output_type": "execute_result"
    }
   ],
   "source": [
    "df_daily_returns = stocks_df.pct_change().dropna()\n",
    "df_daily_returns.head()"
   ]
  },
  {
   "cell_type": "code",
   "execution_count": 40,
   "metadata": {},
   "outputs": [
    {
     "data": {
      "text/plain": [
       "<matplotlib.axes._subplots.AxesSubplot at 0x10c6f09da88>"
      ]
     },
     "execution_count": 40,
     "metadata": {},
     "output_type": "execute_result"
    },
    {
     "data": {
      "image/png": "[encoded data removed]",
      "text/plain": [
       "<Figure size 432x288 with 1 Axes>"
      ]
     },
     "metadata": {
      "needs_background": "light"
     },
     "output_type": "display_data"
    }
   ],
   "source": [
    "df_daily_returns.plot.hist(alpha=0.5)"
   ]
  },
  {
   "cell_type": "code",
   "execution_count": 41,
   "metadata": {},
   "outputs": [
    {
     "data": {
      "text/plain": [
       "<matplotlib.axes._subplots.AxesSubplot at 0x10c6f194408>"
      ]
     },
     "execution_count": 41,
     "metadata": {},
     "output_type": "execute_result"
    },
    {
     "data": {
      "image/png": "[encoded data removed]",
      "text/plain": [
       "<Figure size 432x288 with 1 Axes>"
      ]
     },
     "metadata": {
      "needs_background": "light"
     },
     "output_type": "display_data"
    }
   ],
   "source": [
    "df_daily_returns.plot.density(xlim=[-.25,.25])"
   ]
  },
  {
   "cell_type": "code",
   "execution_count": 42,
   "metadata": {},
   "outputs": [
    {
     "data": {
      "text/html": [
       "<div>\n",
       "<style scoped>\n",
       "    .dataframe tbody tr th:only-of-type {\n",
       "        vertical-align: middle;\n",
       "    }\n",
       "\n",
       "    .dataframe tbody tr th {\n",
       "        vertical-align: top;\n",
       "    }\n",
       "\n",
       "    .dataframe thead th {\n",
       "        text-align: right;\n",
       "    }\n",
       "</style>\n",
       "<table border=\"1\" class=\"dataframe\">\n",
       "  <thead>\n",
       "    <tr style=\"text-align: right;\">\n",
       "      <th></th>\n",
       "      <th>AMZN</th>\n",
       "      <th>BA</th>\n",
       "      <th>MSFT</th>\n",
       "      <th>BTC</th>\n",
       "      <th>Gold</th>\n",
       "      <th>30 T-Bond</th>\n",
       "    </tr>\n",
       "  </thead>\n",
       "  <tbody>\n",
       "    <tr>\n",
       "      <th>count</th>\n",
       "      <td>90.000000</td>\n",
       "      <td>90.000000</td>\n",
       "      <td>90.000000</td>\n",
       "      <td>90.000000</td>\n",
       "      <td>90.000000</td>\n",
       "      <td>90.000000</td>\n",
       "    </tr>\n",
       "    <tr>\n",
       "      <th>mean</th>\n",
       "      <td>0.027578</td>\n",
       "      <td>0.013239</td>\n",
       "      <td>0.023187</td>\n",
       "      <td>0.120396</td>\n",
       "      <td>0.003701</td>\n",
       "      <td>-0.001623</td>\n",
       "    </tr>\n",
       "    <tr>\n",
       "      <th>std</th>\n",
       "      <td>0.082901</td>\n",
       "      <td>0.106808</td>\n",
       "      <td>0.057355</td>\n",
       "      <td>0.519491</td>\n",
       "      <td>0.038806</td>\n",
       "      <td>0.080356</td>\n",
       "    </tr>\n",
       "    <tr>\n",
       "      <th>min</th>\n",
       "      <td>-0.202192</td>\n",
       "      <td>-0.457890</td>\n",
       "      <td>-0.130248</td>\n",
       "      <td>-0.374782</td>\n",
       "      <td>-0.065665</td>\n",
       "      <td>-0.225296</td>\n",
       "    </tr>\n",
       "    <tr>\n",
       "      <th>25%</th>\n",
       "      <td>-0.025756</td>\n",
       "      <td>-0.038114</td>\n",
       "      <td>-0.006208</td>\n",
       "      <td>-0.086349</td>\n",
       "      <td>-0.023050</td>\n",
       "      <td>-0.041905</td>\n",
       "    </tr>\n",
       "    <tr>\n",
       "      <th>50%</th>\n",
       "      <td>0.022552</td>\n",
       "      <td>0.016292</td>\n",
       "      <td>0.020314</td>\n",
       "      <td>0.053981</td>\n",
       "      <td>0.001887</td>\n",
       "      <td>-0.004404</td>\n",
       "    </tr>\n",
       "    <tr>\n",
       "      <th>75%</th>\n",
       "      <td>0.079783</td>\n",
       "      <td>0.061617</td>\n",
       "      <td>0.055575</td>\n",
       "      <td>0.233374</td>\n",
       "      <td>0.027971</td>\n",
       "      <td>0.042118</td>\n",
       "    </tr>\n",
       "    <tr>\n",
       "      <th>max</th>\n",
       "      <td>0.268900</td>\n",
       "      <td>0.459312</td>\n",
       "      <td>0.196262</td>\n",
       "      <td>4.450260</td>\n",
       "      <td>0.109897</td>\n",
       "      <td>0.241667</td>\n",
       "    </tr>\n",
       "  </tbody>\n",
       "</table>\n",
       "</div>"
      ],
      "text/plain": [
       "            AMZN         BA       MSFT        BTC       Gold  30 T-Bond\n",
       "count  90.000000  90.000000  90.000000  90.000000  90.000000  90.000000\n",
       "mean    0.027578   0.013239   0.023187   0.120396   0.003701  -0.001623\n",
       "std     0.082901   0.106808   0.057355   0.519491   0.038806   0.080356\n",
       "min    -0.202192  -0.457890  -0.130248  -0.374782  -0.065665  -0.225296\n",
       "25%    -0.025756  -0.038114  -0.006208  -0.086349  -0.023050  -0.041905\n",
       "50%     0.022552   0.016292   0.020314   0.053981   0.001887  -0.004404\n",
       "75%     0.079783   0.061617   0.055575   0.233374   0.027971   0.042118\n",
       "max     0.268900   0.459312   0.196262   4.450260   0.109897   0.241667"
      ]
     },
     "execution_count": 42,
     "metadata": {},
     "output_type": "execute_result"
    }
   ],
   "source": [
    "df_daily_returns.describe()"
   ]
  },
  {
   "cell_type": "code",
   "execution_count": 3,
   "metadata": {},
   "outputs": [
    {
     "ename": "NameError",
     "evalue": "name 'MCSimulation' is not defined",
     "output_type": "error",
     "traceback": [
      "\u001b[1;31m---------------------------------------------------------------------------\u001b[0m",
      "\u001b[1;31mNameError\u001b[0m                                 Traceback (most recent call last)",
      "\u001b[1;32m<ipython-input-3-b1fd9153bbb7>\u001b[0m in \u001b[0;36m<module>\u001b[1;34m\u001b[0m\n\u001b[0;32m      1\u001b[0m \u001b[1;31m#configuring a Monte Carlo simulation to forcast five years cumulatve returens\u001b[0m\u001b[1;33m\u001b[0m\u001b[1;33m\u001b[0m\u001b[1;33m\u001b[0m\u001b[0m\n\u001b[1;32m----> 2\u001b[1;33m MC_fiveyear = MCSimulation(\n\u001b[0m\u001b[0;32m      3\u001b[0m     \u001b[0mportfolio_data\u001b[0m \u001b[1;33m=\u001b[0m \u001b[0mdf_daily_returns\u001b[0m\u001b[1;33m,\u001b[0m\u001b[1;33m\u001b[0m\u001b[1;33m\u001b[0m\u001b[0m\n\u001b[0;32m      4\u001b[0m     \u001b[0mweights\u001b[0m \u001b[1;33m=\u001b[0m \u001b[1;33m[\u001b[0m\u001b[1;36m.17\u001b[0m\u001b[1;33m,\u001b[0m\u001b[1;36m.17\u001b[0m\u001b[1;33m,\u001b[0m\u001b[1;36m.17\u001b[0m\u001b[1;33m,\u001b[0m\u001b[1;36m.17\u001b[0m\u001b[1;33m,\u001b[0m\u001b[1;36m.17\u001b[0m\u001b[1;33m,\u001b[0m\u001b[1;36m.15\u001b[0m\u001b[1;33m]\u001b[0m\u001b[1;33m,\u001b[0m\u001b[1;33m\u001b[0m\u001b[1;33m\u001b[0m\u001b[0m\n\u001b[0;32m      5\u001b[0m     \u001b[0mnum_simulation\u001b[0m \u001b[1;33m=\u001b[0m \u001b[1;36m500\u001b[0m\u001b[1;33m,\u001b[0m\u001b[1;33m\u001b[0m\u001b[1;33m\u001b[0m\u001b[0m\n",
      "\u001b[1;31mNameError\u001b[0m: name 'MCSimulation' is not defined"
     ]
    }
   ],
   "source": [
    "#configuring a Monte Carlo simulation to forcast five years cumulatve returens\n",
    "MC_fiveyear = MCSimulation(\n",
    "    portfolio_data = df_daily_returns,\n",
    "    weights = [.17,.17,.17,.17,.17,.15],\n",
    "    num_simulation = 50,\n",
    "    num_trading_days = 252*5\n",
    ")\n",
    "MC_fiveyear.portfolio_data.head()"
   ]
  },
  {
   "cell_type": "code",
   "execution_count": 26,
   "metadata": {},
   "outputs": [
    {
     "data": {
      "text/html": [
       "<div>\n",
       "<style scoped>\n",
       "    .dataframe tbody tr th:only-of-type {\n",
       "        vertical-align: middle;\n",
       "    }\n",
       "\n",
       "    .dataframe tbody tr th {\n",
       "        vertical-align: top;\n",
       "    }\n",
       "\n",
       "    .dataframe thead th {\n",
       "        text-align: right;\n",
       "    }\n",
       "</style>\n",
       "<table border=\"1\" class=\"dataframe\">\n",
       "  <thead>\n",
       "    <tr style=\"text-align: right;\">\n",
       "      <th></th>\n",
       "      <th>Median Sale Price</th>\n",
       "      <th>AMZN</th>\n",
       "      <th>BA</th>\n",
       "      <th>MSFT</th>\n",
       "      <th>BTC</th>\n",
       "      <th>Gold</th>\n",
       "      <th>30 T-Bond</th>\n",
       "    </tr>\n",
       "    <tr>\n",
       "      <th>Date</th>\n",
       "      <th></th>\n",
       "      <th></th>\n",
       "      <th></th>\n",
       "      <th></th>\n",
       "      <th></th>\n",
       "      <th></th>\n",
       "      <th></th>\n",
       "    </tr>\n",
       "  </thead>\n",
       "  <tbody>\n",
       "    <tr>\n",
       "      <th>2012-02-29</th>\n",
       "      <td>297736.8421</td>\n",
       "      <td>179.69</td>\n",
       "      <td>74.95</td>\n",
       "      <td>31.74</td>\n",
       "      <td>NaN</td>\n",
       "      <td>1716.6</td>\n",
       "      <td>3.08</td>\n",
       "    </tr>\n",
       "    <tr>\n",
       "      <th>2012-03-31</th>\n",
       "      <td>300131.5789</td>\n",
       "      <td>202.51</td>\n",
       "      <td>74.37</td>\n",
       "      <td>32.26</td>\n",
       "      <td>NaN</td>\n",
       "      <td>1674.3</td>\n",
       "      <td>3.35</td>\n",
       "    </tr>\n",
       "    <tr>\n",
       "      <th>2012-04-30</th>\n",
       "      <td>311921.0526</td>\n",
       "      <td>231.90</td>\n",
       "      <td>76.80</td>\n",
       "      <td>32.02</td>\n",
       "      <td>NaN</td>\n",
       "      <td>1666.5</td>\n",
       "      <td>3.12</td>\n",
       "    </tr>\n",
       "    <tr>\n",
       "      <th>2012-05-31</th>\n",
       "      <td>324657.8947</td>\n",
       "      <td>212.91</td>\n",
       "      <td>69.61</td>\n",
       "      <td>29.19</td>\n",
       "      <td>NaN</td>\n",
       "      <td>1564.2</td>\n",
       "      <td>2.67</td>\n",
       "    </tr>\n",
       "    <tr>\n",
       "      <th>2012-06-30</th>\n",
       "      <td>318684.2105</td>\n",
       "      <td>228.35</td>\n",
       "      <td>74.30</td>\n",
       "      <td>30.59</td>\n",
       "      <td>NaN</td>\n",
       "      <td>1604.2</td>\n",
       "      <td>2.76</td>\n",
       "    </tr>\n",
       "    <tr>\n",
       "      <th>2012-07-31</th>\n",
       "      <td>319342.1053</td>\n",
       "      <td>233.30</td>\n",
       "      <td>73.91</td>\n",
       "      <td>29.47</td>\n",
       "      <td>NaN</td>\n",
       "      <td>1612.4</td>\n",
       "      <td>2.56</td>\n",
       "    </tr>\n",
       "    <tr>\n",
       "      <th>2012-08-31</th>\n",
       "      <td>326789.4737</td>\n",
       "      <td>248.27</td>\n",
       "      <td>71.40</td>\n",
       "      <td>30.82</td>\n",
       "      <td>NaN</td>\n",
       "      <td>1685.3</td>\n",
       "      <td>2.68</td>\n",
       "    </tr>\n",
       "    <tr>\n",
       "      <th>2012-09-30</th>\n",
       "      <td>320000.0000</td>\n",
       "      <td>254.32</td>\n",
       "      <td>69.60</td>\n",
       "      <td>29.76</td>\n",
       "      <td>NaN</td>\n",
       "      <td>1776.1</td>\n",
       "      <td>2.82</td>\n",
       "    </tr>\n",
       "    <tr>\n",
       "      <th>2012-10-31</th>\n",
       "      <td>324000.0000</td>\n",
       "      <td>232.89</td>\n",
       "      <td>70.44</td>\n",
       "      <td>28.54</td>\n",
       "      <td>NaN</td>\n",
       "      <td>1721.3</td>\n",
       "      <td>2.85</td>\n",
       "    </tr>\n",
       "    <tr>\n",
       "      <th>2012-11-30</th>\n",
       "      <td>320605.2632</td>\n",
       "      <td>252.05</td>\n",
       "      <td>74.28</td>\n",
       "      <td>26.62</td>\n",
       "      <td>NaN</td>\n",
       "      <td>1712.7</td>\n",
       "      <td>2.81</td>\n",
       "    </tr>\n",
       "  </tbody>\n",
       "</table>\n",
       "</div>"
      ],
      "text/plain": [
       "            Median Sale Price    AMZN     BA   MSFT  BTC    Gold  30 T-Bond\n",
       "Date                                                                       \n",
       "2012-02-29        297736.8421  179.69  74.95  31.74  NaN  1716.6       3.08\n",
       "2012-03-31        300131.5789  202.51  74.37  32.26  NaN  1674.3       3.35\n",
       "2012-04-30        311921.0526  231.90  76.80  32.02  NaN  1666.5       3.12\n",
       "2012-05-31        324657.8947  212.91  69.61  29.19  NaN  1564.2       2.67\n",
       "2012-06-30        318684.2105  228.35  74.30  30.59  NaN  1604.2       2.76\n",
       "2012-07-31        319342.1053  233.30  73.91  29.47  NaN  1612.4       2.56\n",
       "2012-08-31        326789.4737  248.27  71.40  30.82  NaN  1685.3       2.68\n",
       "2012-09-30        320000.0000  254.32  69.60  29.76  NaN  1776.1       2.82\n",
       "2012-10-31        324000.0000  232.89  70.44  28.54  NaN  1721.3       2.85\n",
       "2012-11-30        320605.2632  252.05  74.28  26.62  NaN  1712.7       2.81"
      ]
     },
     "execution_count": 26,
     "metadata": {},
     "output_type": "execute_result"
    }
   ],
   "source": [
    "# Use the `concat` function to combine the two DataFrames by matching indexes (or in this case `Month`)\n",
    "combined_df = pd.concat([house_price_df, stocks_df], axis=\"columns\", join=\"inner\")\n",
    "combined_df.head(10)"
   ]
  },
  {
   "cell_type": "code",
   "execution_count": null,
   "metadata": {},
   "outputs": [],
   "source": []
  },
  {
   "cell_type": "code",
   "execution_count": 27,
   "metadata": {},
   "outputs": [
    {
     "data": {
      "text/html": [
       "<div>\n",
       "<style scoped>\n",
       "    .dataframe tbody tr th:only-of-type {\n",
       "        vertical-align: middle;\n",
       "    }\n",
       "\n",
       "    .dataframe tbody tr th {\n",
       "        vertical-align: top;\n",
       "    }\n",
       "\n",
       "    .dataframe thead th {\n",
       "        text-align: right;\n",
       "    }\n",
       "</style>\n",
       "<table border=\"1\" class=\"dataframe\">\n",
       "  <thead>\n",
       "    <tr style=\"text-align: right;\">\n",
       "      <th></th>\n",
       "      <th>Median Sale Price</th>\n",
       "    </tr>\n",
       "  </thead>\n",
       "  <tbody>\n",
       "    <tr>\n",
       "      <th>AMZN</th>\n",
       "      <td>0.925388</td>\n",
       "    </tr>\n",
       "    <tr>\n",
       "      <th>BA</th>\n",
       "      <td>0.731449</td>\n",
       "    </tr>\n",
       "    <tr>\n",
       "      <th>MSFT</th>\n",
       "      <td>0.900481</td>\n",
       "    </tr>\n",
       "    <tr>\n",
       "      <th>BTC</th>\n",
       "      <td>0.781356</td>\n",
       "    </tr>\n",
       "    <tr>\n",
       "      <th>Gold</th>\n",
       "      <td>0.212930</td>\n",
       "    </tr>\n",
       "    <tr>\n",
       "      <th>30 T-Bond</th>\n",
       "      <td>-0.615141</td>\n",
       "    </tr>\n",
       "  </tbody>\n",
       "</table>\n",
       "</div>"
      ],
      "text/plain": [
       "           Median Sale Price\n",
       "AMZN                0.925388\n",
       "BA                  0.731449\n",
       "MSFT                0.900481\n",
       "BTC                 0.781356\n",
       "Gold                0.212930\n",
       "30 T-Bond          -0.615141"
      ]
     },
     "execution_count": 27,
     "metadata": {},
     "output_type": "execute_result"
    }
   ],
   "source": [
    "combined_df.corr()['Median Sale Price'].to_frame().iloc[1:]"
   ]
  },
  {
   "cell_type": "code",
   "execution_count": 28,
   "metadata": {},
   "outputs": [
    {
     "data": {
      "text/plain": [
       "<matplotlib.axes._subplots.AxesSubplot at 0x10c6ed40e48>"
      ]
     },
     "execution_count": 28,
     "metadata": {},
     "output_type": "execute_result"
    },
    {
     "data": {
      "image/png": "[encoded data removed]",
      "text/plain": [
       "<Figure size 432x288 with 1 Axes>"
      ]
     },
     "metadata": {
      "needs_background": "light"
     },
     "output_type": "display_data"
    }
   ],
   "source": [
    "# Plot the data trends of the two variables over time\n",
    "combined_df.plot()"
   ]
  },
  {
   "cell_type": "code",
   "execution_count": 29,
   "metadata": {},
   "outputs": [
    {
     "data": {
      "text/plain": [
       "<matplotlib.axes._subplots.AxesSubplot at 0x10c6e822cc8>"
      ]
     },
     "execution_count": 29,
     "metadata": {},
     "output_type": "execute_result"
    },
    {
     "data": {
      "image/png": "[encoded data removed]",
      "text/plain": [
       "<Figure size 432x288 with 1 Axes>"
      ]
     },
     "metadata": {
      "needs_background": "light"
     },
     "output_type": "display_data"
    }
   ],
   "source": [
    "# Plot the relationship between the two variables\n",
    "combined_df.plot(kind='scatter', x='AMZN', y='Median Sale Price')"
   ]
  },
  {
   "cell_type": "code",
   "execution_count": null,
   "metadata": {},
   "outputs": [],
   "source": []
  },
  {
   "cell_type": "code",
   "execution_count": null,
   "metadata": {},
   "outputs": [],
   "source": []
  },
  {
   "cell_type": "code",
   "execution_count": null,
   "metadata": {},
   "outputs": [],
   "source": []
  }
 ],
 "metadata": {
  "kernelspec": {
   "display_name": "Python 3",
   "language": "python",
   "name": "python3"
  },
  "language_info": {
   "codemirror_mode": {
    "name": "ipython",
    "version": 3
   },
   "file_extension": ".py",
   "mimetype": "text/x-python",
   "name": "python",
   "nbconvert_exporter": "python",
   "pygments_lexer": "ipython3",
   "version": "3.7.9"
  }
 },
 "nbformat": 4,
 "nbformat_minor": 5
}
