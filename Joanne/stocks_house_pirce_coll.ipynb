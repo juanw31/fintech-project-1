{
 "cells": [
  {
   "cell_type": "code",
   "execution_count": 1,
   "id": "dynamic-cannon",
   "metadata": {},
   "outputs": [],
   "source": [
    "# Import libraries and dependencies\n",
    "import pandas as pd\n",
    "from pathlib import Path\n",
    "import seaborn as sns\n",
    "%matplotlib inline"
   ]
  },
  {
   "cell_type": "code",
   "execution_count": 2,
   "id": "other-atlantic",
   "metadata": {},
   "outputs": [],
   "source": [
    "# Set the file paths to the CSVs using the Path class from the pathlib library\n",
    "stock_csv_path = Path(\"Asset_Prices_Month.csv\")\n",
    "housing_csv_path = Path(\"Housing_prices_month_aggregate_clean.csv\")"
   ]
  },
  {
   "cell_type": "code",
   "execution_count": 4,
   "id": "rolled-engineer",
   "metadata": {},
   "outputs": [
    {
     "data": {
      "text/html": [
       "<div>\n",
       "<style scoped>\n",
       "    .dataframe tbody tr th:only-of-type {\n",
       "        vertical-align: middle;\n",
       "    }\n",
       "\n",
       "    .dataframe tbody tr th {\n",
       "        vertical-align: top;\n",
       "    }\n",
       "\n",
       "    .dataframe thead th {\n",
       "        text-align: right;\n",
       "    }\n",
       "</style>\n",
       "<table border=\"1\" class=\"dataframe\">\n",
       "  <thead>\n",
       "    <tr style=\"text-align: right;\">\n",
       "      <th></th>\n",
       "      <th>AMZN</th>\n",
       "      <th>BA</th>\n",
       "      <th>MSFT</th>\n",
       "      <th>BTC</th>\n",
       "      <th>Gold</th>\n",
       "      <th>30 T-Bond</th>\n",
       "    </tr>\n",
       "    <tr>\n",
       "      <th>Date</th>\n",
       "      <th></th>\n",
       "      <th></th>\n",
       "      <th></th>\n",
       "      <th></th>\n",
       "      <th></th>\n",
       "      <th></th>\n",
       "    </tr>\n",
       "  </thead>\n",
       "  <tbody>\n",
       "    <tr>\n",
       "      <th>2012-02-29</th>\n",
       "      <td>179.69</td>\n",
       "      <td>74.95</td>\n",
       "      <td>31.74</td>\n",
       "      <td>NaN</td>\n",
       "      <td>1716.6</td>\n",
       "      <td>3.08</td>\n",
       "    </tr>\n",
       "    <tr>\n",
       "      <th>2012-03-31</th>\n",
       "      <td>202.51</td>\n",
       "      <td>74.37</td>\n",
       "      <td>32.26</td>\n",
       "      <td>NaN</td>\n",
       "      <td>1674.3</td>\n",
       "      <td>3.35</td>\n",
       "    </tr>\n",
       "    <tr>\n",
       "      <th>2012-04-30</th>\n",
       "      <td>231.90</td>\n",
       "      <td>76.80</td>\n",
       "      <td>32.02</td>\n",
       "      <td>NaN</td>\n",
       "      <td>1666.5</td>\n",
       "      <td>3.12</td>\n",
       "    </tr>\n",
       "    <tr>\n",
       "      <th>2012-05-31</th>\n",
       "      <td>212.91</td>\n",
       "      <td>69.61</td>\n",
       "      <td>29.19</td>\n",
       "      <td>NaN</td>\n",
       "      <td>1564.2</td>\n",
       "      <td>2.67</td>\n",
       "    </tr>\n",
       "    <tr>\n",
       "      <th>2012-06-30</th>\n",
       "      <td>228.35</td>\n",
       "      <td>74.30</td>\n",
       "      <td>30.59</td>\n",
       "      <td>NaN</td>\n",
       "      <td>1604.2</td>\n",
       "      <td>2.76</td>\n",
       "    </tr>\n",
       "  </tbody>\n",
       "</table>\n",
       "</div>"
      ],
      "text/plain": [
       "              AMZN     BA   MSFT  BTC    Gold  30 T-Bond\n",
       "Date                                                    \n",
       "2012-02-29  179.69  74.95  31.74  NaN  1716.6       3.08\n",
       "2012-03-31  202.51  74.37  32.26  NaN  1674.3       3.35\n",
       "2012-04-30  231.90  76.80  32.02  NaN  1666.5       3.12\n",
       "2012-05-31  212.91  69.61  29.19  NaN  1564.2       2.67\n",
       "2012-06-30  228.35  74.30  30.59  NaN  1604.2       2.76"
      ]
     },
     "execution_count": 4,
     "metadata": {},
     "output_type": "execute_result"
    }
   ],
   "source": [
    "# Read the stocks data, set the `date` as the index\n",
    "stocks_df = pd.read_csv(stock_csv_path, index_col=\"Date\", infer_datetime_format=True, parse_dates=True)\n",
    "house_price_df = pd.read_csv(housing_csv_path, index_col=\"Date\", infer_datetime_format=True, parse_dates=True)\n",
    "\n",
    "stocks_df.head()"
   ]
  },
  {
   "cell_type": "code",
   "execution_count": 8,
   "id": "jewish-element",
   "metadata": {},
   "outputs": [
    {
     "data": {
      "text/plain": [
       "<AxesSubplot:xlabel='Date'>"
      ]
     },
     "execution_count": 8,
     "metadata": {},
     "output_type": "execute_result"
    },
    {
     "data": {
      "image/png": "[encoded data removed]",
      "text/plain": [
       "<Figure size 432x288 with 1 Axes>"
      ]
     },
     "metadata": {
      "needs_background": "light"
     },
     "output_type": "display_data"
    }
   ],
   "source": [
    "# Plot the data trends of the two variables over time\n",
    "stocks_df.plot()"
   ]
  },
  {
   "cell_type": "code",
   "execution_count": 14,
   "id": "authentic-philip",
   "metadata": {},
   "outputs": [
    {
     "data": {
      "text/html": [
       "<div>\n",
       "<style scoped>\n",
       "    .dataframe tbody tr th:only-of-type {\n",
       "        vertical-align: middle;\n",
       "    }\n",
       "\n",
       "    .dataframe tbody tr th {\n",
       "        vertical-align: top;\n",
       "    }\n",
       "\n",
       "    .dataframe thead th {\n",
       "        text-align: right;\n",
       "    }\n",
       "</style>\n",
       "<table border=\"1\" class=\"dataframe\">\n",
       "  <thead>\n",
       "    <tr style=\"text-align: right;\">\n",
       "      <th></th>\n",
       "      <th>AMZN</th>\n",
       "      <th>BA</th>\n",
       "      <th>MSFT</th>\n",
       "      <th>BTC</th>\n",
       "      <th>Gold</th>\n",
       "      <th>30 T-Bond</th>\n",
       "    </tr>\n",
       "  </thead>\n",
       "  <tbody>\n",
       "    <tr>\n",
       "      <th>AMZN</th>\n",
       "      <td>1.000000</td>\n",
       "      <td>0.576007</td>\n",
       "      <td>0.983154</td>\n",
       "      <td>0.735486</td>\n",
       "      <td>0.524567</td>\n",
       "      <td>-0.691376</td>\n",
       "    </tr>\n",
       "    <tr>\n",
       "      <th>BA</th>\n",
       "      <td>0.576007</td>\n",
       "      <td>1.000000</td>\n",
       "      <td>0.522784</td>\n",
       "      <td>0.269741</td>\n",
       "      <td>-0.113441</td>\n",
       "      <td>-0.124258</td>\n",
       "    </tr>\n",
       "    <tr>\n",
       "      <th>MSFT</th>\n",
       "      <td>0.983154</td>\n",
       "      <td>0.522784</td>\n",
       "      <td>1.000000</td>\n",
       "      <td>0.776143</td>\n",
       "      <td>0.562743</td>\n",
       "      <td>-0.728569</td>\n",
       "    </tr>\n",
       "    <tr>\n",
       "      <th>BTC</th>\n",
       "      <td>0.735486</td>\n",
       "      <td>0.269741</td>\n",
       "      <td>0.776143</td>\n",
       "      <td>1.000000</td>\n",
       "      <td>0.645120</td>\n",
       "      <td>-0.392672</td>\n",
       "    </tr>\n",
       "    <tr>\n",
       "      <th>Gold</th>\n",
       "      <td>0.524567</td>\n",
       "      <td>-0.113441</td>\n",
       "      <td>0.562743</td>\n",
       "      <td>0.645120</td>\n",
       "      <td>1.000000</td>\n",
       "      <td>-0.615138</td>\n",
       "    </tr>\n",
       "    <tr>\n",
       "      <th>30 T-Bond</th>\n",
       "      <td>-0.691376</td>\n",
       "      <td>-0.124258</td>\n",
       "      <td>-0.728569</td>\n",
       "      <td>-0.392672</td>\n",
       "      <td>-0.615138</td>\n",
       "      <td>1.000000</td>\n",
       "    </tr>\n",
       "  </tbody>\n",
       "</table>\n",
       "</div>"
      ],
      "text/plain": [
       "               AMZN        BA      MSFT       BTC      Gold  30 T-Bond\n",
       "AMZN       1.000000  0.576007  0.983154  0.735486  0.524567  -0.691376\n",
       "BA         0.576007  1.000000  0.522784  0.269741 -0.113441  -0.124258\n",
       "MSFT       0.983154  0.522784  1.000000  0.776143  0.562743  -0.728569\n",
       "BTC        0.735486  0.269741  0.776143  1.000000  0.645120  -0.392672\n",
       "Gold       0.524567 -0.113441  0.562743  0.645120  1.000000  -0.615138\n",
       "30 T-Bond -0.691376 -0.124258 -0.728569 -0.392672 -0.615138   1.000000"
      ]
     },
     "execution_count": 14,
     "metadata": {},
     "output_type": "execute_result"
    }
   ],
   "source": [
    "# Calculate the correlation\n",
    "correlation = stocks_df.corr()\n",
    "\n",
    "# Display de correlation matrix\n",
    "correlation"
   ]
  },
  {
   "cell_type": "code",
   "execution_count": 22,
   "id": "stretch-density",
   "metadata": {},
   "outputs": [
    {
     "data": {
      "image/png": "[encoded data removed]",
      "text/plain": [
       "<Figure size 432x288 with 1 Axes>"
      ]
     },
     "metadata": {
      "needs_background": "light"
     },
     "output_type": "display_data"
    }
   ],
   "source": [
    "# Calculate and plot the correlation\n",
    "correlation = stocks_df.corr()\n",
    "correlation\n",
    "stocks_df.plot(kind = \"scatter\", x=\"AMZN\", y = \"MSFT\");"
   ]
  },
  {
   "cell_type": "code",
   "execution_count": 6,
   "id": "assured-explanation",
   "metadata": {},
   "outputs": [
    {
     "data": {
      "text/html": [
       "<div>\n",
       "<style scoped>\n",
       "    .dataframe tbody tr th:only-of-type {\n",
       "        vertical-align: middle;\n",
       "    }\n",
       "\n",
       "    .dataframe tbody tr th {\n",
       "        vertical-align: top;\n",
       "    }\n",
       "\n",
       "    .dataframe thead th {\n",
       "        text-align: right;\n",
       "    }\n",
       "</style>\n",
       "<table border=\"1\" class=\"dataframe\">\n",
       "  <thead>\n",
       "    <tr style=\"text-align: right;\">\n",
       "      <th></th>\n",
       "      <th>Median Sale Price</th>\n",
       "      <th>AMZN</th>\n",
       "      <th>BA</th>\n",
       "      <th>MSFT</th>\n",
       "      <th>BTC</th>\n",
       "      <th>Gold</th>\n",
       "      <th>30 T-Bond</th>\n",
       "    </tr>\n",
       "    <tr>\n",
       "      <th>Date</th>\n",
       "      <th></th>\n",
       "      <th></th>\n",
       "      <th></th>\n",
       "      <th></th>\n",
       "      <th></th>\n",
       "      <th></th>\n",
       "      <th></th>\n",
       "    </tr>\n",
       "  </thead>\n",
       "  <tbody>\n",
       "    <tr>\n",
       "      <th>2012-02-29</th>\n",
       "      <td>297736.8421</td>\n",
       "      <td>179.69</td>\n",
       "      <td>74.95</td>\n",
       "      <td>31.74</td>\n",
       "      <td>NaN</td>\n",
       "      <td>1716.6</td>\n",
       "      <td>3.08</td>\n",
       "    </tr>\n",
       "    <tr>\n",
       "      <th>2012-03-31</th>\n",
       "      <td>300131.5789</td>\n",
       "      <td>202.51</td>\n",
       "      <td>74.37</td>\n",
       "      <td>32.26</td>\n",
       "      <td>NaN</td>\n",
       "      <td>1674.3</td>\n",
       "      <td>3.35</td>\n",
       "    </tr>\n",
       "    <tr>\n",
       "      <th>2012-04-30</th>\n",
       "      <td>311921.0526</td>\n",
       "      <td>231.90</td>\n",
       "      <td>76.80</td>\n",
       "      <td>32.02</td>\n",
       "      <td>NaN</td>\n",
       "      <td>1666.5</td>\n",
       "      <td>3.12</td>\n",
       "    </tr>\n",
       "    <tr>\n",
       "      <th>2012-05-31</th>\n",
       "      <td>324657.8947</td>\n",
       "      <td>212.91</td>\n",
       "      <td>69.61</td>\n",
       "      <td>29.19</td>\n",
       "      <td>NaN</td>\n",
       "      <td>1564.2</td>\n",
       "      <td>2.67</td>\n",
       "    </tr>\n",
       "    <tr>\n",
       "      <th>2012-06-30</th>\n",
       "      <td>318684.2105</td>\n",
       "      <td>228.35</td>\n",
       "      <td>74.30</td>\n",
       "      <td>30.59</td>\n",
       "      <td>NaN</td>\n",
       "      <td>1604.2</td>\n",
       "      <td>2.76</td>\n",
       "    </tr>\n",
       "    <tr>\n",
       "      <th>...</th>\n",
       "      <td>...</td>\n",
       "      <td>...</td>\n",
       "      <td>...</td>\n",
       "      <td>...</td>\n",
       "      <td>...</td>\n",
       "      <td>...</td>\n",
       "      <td>...</td>\n",
       "    </tr>\n",
       "    <tr>\n",
       "      <th>2020-09-30</th>\n",
       "      <td>681763.1579</td>\n",
       "      <td>3148.73</td>\n",
       "      <td>165.26</td>\n",
       "      <td>210.33</td>\n",
       "      <td>10741.58</td>\n",
       "      <td>1887.5</td>\n",
       "      <td>1.46</td>\n",
       "    </tr>\n",
       "    <tr>\n",
       "      <th>2020-10-31</th>\n",
       "      <td>686368.4211</td>\n",
       "      <td>3036.15</td>\n",
       "      <td>144.39</td>\n",
       "      <td>202.47</td>\n",
       "      <td>13573.71</td>\n",
       "      <td>1877.4</td>\n",
       "      <td>1.65</td>\n",
       "    </tr>\n",
       "    <tr>\n",
       "      <th>2020-11-30</th>\n",
       "      <td>701684.2105</td>\n",
       "      <td>3168.04</td>\n",
       "      <td>210.71</td>\n",
       "      <td>214.07</td>\n",
       "      <td>19382.36</td>\n",
       "      <td>1780.9</td>\n",
       "      <td>1.58</td>\n",
       "    </tr>\n",
       "    <tr>\n",
       "      <th>2020-12-31</th>\n",
       "      <td>696657.8947</td>\n",
       "      <td>3256.93</td>\n",
       "      <td>214.06</td>\n",
       "      <td>222.42</td>\n",
       "      <td>29111.52</td>\n",
       "      <td>1895.1</td>\n",
       "      <td>1.65</td>\n",
       "    </tr>\n",
       "    <tr>\n",
       "      <th>2021-01-31</th>\n",
       "      <td>709184.2105</td>\n",
       "      <td>3206.20</td>\n",
       "      <td>194.19</td>\n",
       "      <td>231.96</td>\n",
       "      <td>34842.56</td>\n",
       "      <td>1850.3</td>\n",
       "      <td>1.87</td>\n",
       "    </tr>\n",
       "  </tbody>\n",
       "</table>\n",
       "<p>108 rows × 7 columns</p>\n",
       "</div>"
      ],
      "text/plain": [
       "            Median Sale Price     AMZN      BA    MSFT       BTC    Gold  \\\n",
       "Date                                                                       \n",
       "2012-02-29        297736.8421   179.69   74.95   31.74       NaN  1716.6   \n",
       "2012-03-31        300131.5789   202.51   74.37   32.26       NaN  1674.3   \n",
       "2012-04-30        311921.0526   231.90   76.80   32.02       NaN  1666.5   \n",
       "2012-05-31        324657.8947   212.91   69.61   29.19       NaN  1564.2   \n",
       "2012-06-30        318684.2105   228.35   74.30   30.59       NaN  1604.2   \n",
       "...                       ...      ...     ...     ...       ...     ...   \n",
       "2020-09-30        681763.1579  3148.73  165.26  210.33  10741.58  1887.5   \n",
       "2020-10-31        686368.4211  3036.15  144.39  202.47  13573.71  1877.4   \n",
       "2020-11-30        701684.2105  3168.04  210.71  214.07  19382.36  1780.9   \n",
       "2020-12-31        696657.8947  3256.93  214.06  222.42  29111.52  1895.1   \n",
       "2021-01-31        709184.2105  3206.20  194.19  231.96  34842.56  1850.3   \n",
       "\n",
       "            30 T-Bond  \n",
       "Date                   \n",
       "2012-02-29       3.08  \n",
       "2012-03-31       3.35  \n",
       "2012-04-30       3.12  \n",
       "2012-05-31       2.67  \n",
       "2012-06-30       2.76  \n",
       "...               ...  \n",
       "2020-09-30       1.46  \n",
       "2020-10-31       1.65  \n",
       "2020-11-30       1.58  \n",
       "2020-12-31       1.65  \n",
       "2021-01-31       1.87  \n",
       "\n",
       "[108 rows x 7 columns]"
      ]
     },
     "execution_count": 6,
     "metadata": {},
     "output_type": "execute_result"
    }
   ],
   "source": [
    "# Use the `concat` function to combine the two DataFrames by matching indexes (or in this case `Month`)\n",
    "combined_df = pd.concat([house_price_df, stocks_df], axis=\"columns\", join=\"inner\")\n",
    "combined_df"
   ]
  },
  {
   "cell_type": "code",
   "execution_count": 31,
   "id": "perfect-control",
   "metadata": {},
   "outputs": [
    {
     "data": {
      "text/html": [
       "<div>\n",
       "<style scoped>\n",
       "    .dataframe tbody tr th:only-of-type {\n",
       "        vertical-align: middle;\n",
       "    }\n",
       "\n",
       "    .dataframe tbody tr th {\n",
       "        vertical-align: top;\n",
       "    }\n",
       "\n",
       "    .dataframe thead th {\n",
       "        text-align: right;\n",
       "    }\n",
       "</style>\n",
       "<table border=\"1\" class=\"dataframe\">\n",
       "  <thead>\n",
       "    <tr style=\"text-align: right;\">\n",
       "      <th></th>\n",
       "      <th>Median Sale Price</th>\n",
       "    </tr>\n",
       "  </thead>\n",
       "  <tbody>\n",
       "    <tr>\n",
       "      <th>AMZN</th>\n",
       "      <td>0.925388</td>\n",
       "    </tr>\n",
       "    <tr>\n",
       "      <th>BA</th>\n",
       "      <td>0.731449</td>\n",
       "    </tr>\n",
       "    <tr>\n",
       "      <th>MSFT</th>\n",
       "      <td>0.900481</td>\n",
       "    </tr>\n",
       "    <tr>\n",
       "      <th>BTC</th>\n",
       "      <td>0.781356</td>\n",
       "    </tr>\n",
       "    <tr>\n",
       "      <th>Gold</th>\n",
       "      <td>0.212930</td>\n",
       "    </tr>\n",
       "    <tr>\n",
       "      <th>30 T-Bond</th>\n",
       "      <td>-0.615141</td>\n",
       "    </tr>\n",
       "  </tbody>\n",
       "</table>\n",
       "</div>"
      ],
      "text/plain": [
       "           Median Sale Price\n",
       "AMZN                0.925388\n",
       "BA                  0.731449\n",
       "MSFT                0.900481\n",
       "BTC                 0.781356\n",
       "Gold                0.212930\n",
       "30 T-Bond          -0.615141"
      ]
     },
     "execution_count": 31,
     "metadata": {},
     "output_type": "execute_result"
    }
   ],
   "source": [
    "combined_df.corr()['Median Sale Price'].to_frame().iloc[1:]"
   ]
  },
  {
   "cell_type": "code",
   "execution_count": 7,
   "id": "impossible-amplifier",
   "metadata": {},
   "outputs": [
    {
     "data": {
      "text/plain": [
       "<AxesSubplot:xlabel='Date'>"
      ]
     },
     "execution_count": 7,
     "metadata": {},
     "output_type": "execute_result"
    },
    {
     "data": {
      "image/png": "[encoded data removed]",
      "text/plain": [
       "<Figure size 432x288 with 1 Axes>"
      ]
     },
     "metadata": {
      "needs_background": "light"
     },
     "output_type": "display_data"
    }
   ],
   "source": [
    "# Plot the data trends of the two variables over time\n",
    "combined_df.plot()"
   ]
  },
  {
   "cell_type": "code",
   "execution_count": 25,
   "id": "likely-convert",
   "metadata": {},
   "outputs": [
    {
     "data": {
      "text/plain": [
       "<AxesSubplot:xlabel='MSFT', ylabel='Median Sale Price'>"
      ]
     },
     "execution_count": 25,
     "metadata": {},
     "output_type": "execute_result"
    },
    {
     "data": {
      "image/png": "[encoded data removed]",
      "text/plain": [
       "<Figure size 432x288 with 1 Axes>"
      ]
     },
     "metadata": {
      "needs_background": "light"
     },
     "output_type": "display_data"
    }
   ],
   "source": [
    "# Plot the relationship between the two variables\n",
    "combined_df.plot(kind='scatter', x='MSFT', y='Median Sale Price')"
   ]
  },
  {
   "cell_type": "code",
   "execution_count": null,
   "id": "insured-madrid",
   "metadata": {},
   "outputs": [],
   "source": []
  }
 ],
 "metadata": {
  "kernelspec": {
   "display_name": "Python 3",
   "language": "python",
   "name": "python3"
  },
  "language_info": {
   "codemirror_mode": {
    "name": "ipython",
    "version": 3
   },
   "file_extension": ".py",
   "mimetype": "text/x-python",
   "name": "python",
   "nbconvert_exporter": "python",
   "pygments_lexer": "ipython3",
   "version": "3.8.5"
  }
 },
 "nbformat": 4,
 "nbformat_minor": 5
}
